{
 "cells": [
  {
   "cell_type": "code",
   "execution_count": 4,
   "id": "c044729d",
   "metadata": {},
   "outputs": [],
   "source": [
    "library(Seurat)\n",
    "library(SeuratDisk)"
   ]
  },
  {
   "cell_type": "code",
   "execution_count": 5,
   "id": "f3c3334c",
   "metadata": {},
   "outputs": [],
   "source": [
    "h5ad_to_seurat <- function(name) {\n",
    "  Convert(paste(\"datasets/\", name, \".h5ad\", sep = \"\"), paste(\"seuratfiles/\", name, \".h5seurat\", sep = \"\"), assay = \"RNA\")\n",
    "  Convert(paste(\"datasets/\", name, \"-adt.h5ad\", sep = \"\"), paste(\"seuratfiles/\", name, \"-adt.h5seurat\", sep = \"\"), assay = \"ADT\")\n",
    "}"
   ]
  },
  {
   "cell_type": "code",
   "execution_count": 3,
   "id": "f7263ecf",
   "metadata": {},
   "outputs": [
    {
     "name": "stderr",
     "output_type": "stream",
     "text": [
      "Warning message:\n",
      "“Unknown file type: h5ad”\n",
      "Creating h5Seurat file for version 3.1.5.9900\n",
      "\n",
      "Adding X as data\n",
      "\n",
      "Adding X as counts\n",
      "\n",
      "Adding meta.features from var\n",
      "\n",
      "Warning message:\n",
      "“Unknown file type: h5ad”\n",
      "Creating h5Seurat file for version 3.1.5.9900\n",
      "\n",
      "Adding X as scale.data\n",
      "\n",
      "Adding X as data\n",
      "\n",
      "Adding X as counts\n",
      "\n",
      "Adding meta.features from var\n",
      "\n"
     ]
    },
    {
     "ename": "ERROR",
     "evalue": "Error in dfgroup$obj_copy_to(dst_loc = dfgroup, dst_name = tname, src_name = i): HDF5-API Errors:\n    error #000: H5Ocopy.c in H5Ocopy(): line 240: unable to copy object\n        class: HDF5\n        major: Object header\n        minor: Unable to copy object\n\n    error #001: H5VLcallback.c in H5VL_object_copy(): line 5495: object copy failed\n        class: HDF5\n        major: Virtual Object Layer\n        minor: Unable to copy object\n\n    error #002: H5VLcallback.c in H5VL__object_copy(): line 5456: object copy failed\n        class: HDF5\n        major: Virtual Object Layer\n        minor: Unable to copy object\n\n    error #003: H5VLnative_object.c in H5VL__native_object_copy(): line 125: unable to copy object\n        class: HDF5\n        major: Object header\n        minor: Unable to copy object\n\n    error #004: H5Ocopy.c in H5O__copy(): line 301: unable to copy object\n        class: HDF5\n        major: Object header\n        minor: Unable to copy object\n\n    error #005: H5Ocopy.c in H5O__copy_obj(): line 1196: unable to copy object\n        class: HDF5\n        major: Objec\n",
     "output_type": "error",
     "traceback": [
      "Error in dfgroup$obj_copy_to(dst_loc = dfgroup, dst_name = tname, src_name = i): HDF5-API Errors:\n    error #000: H5Ocopy.c in H5Ocopy(): line 240: unable to copy object\n        class: HDF5\n        major: Object header\n        minor: Unable to copy object\n\n    error #001: H5VLcallback.c in H5VL_object_copy(): line 5495: object copy failed\n        class: HDF5\n        major: Virtual Object Layer\n        minor: Unable to copy object\n\n    error #002: H5VLcallback.c in H5VL__object_copy(): line 5456: object copy failed\n        class: HDF5\n        major: Virtual Object Layer\n        minor: Unable to copy object\n\n    error #003: H5VLnative_object.c in H5VL__native_object_copy(): line 125: unable to copy object\n        class: HDF5\n        major: Object header\n        minor: Unable to copy object\n\n    error #004: H5Ocopy.c in H5O__copy(): line 301: unable to copy object\n        class: HDF5\n        major: Object header\n        minor: Unable to copy object\n\n    error #005: H5Ocopy.c in H5O__copy_obj(): line 1196: unable to copy object\n        class: HDF5\n        major: Objec\nTraceback:\n",
      "1. h5ad_to_seurat(i)",
      "2. Convert(paste(\"datasets/\", name, \"-adt.h5ad\", sep = \"\"), paste(\"seuratfiles/\", \n .     name, \"-adt.h5seurat\", sep = \"\"), assay = \"ADT\")   # at line 3 of file <text>",
      "3. Convert.character(paste(\"datasets/\", name, \"-adt.h5ad\", sep = \"\"), \n .     paste(\"seuratfiles/\", name, \"-adt.h5seurat\", sep = \"\"), assay = \"ADT\")",
      "4. Convert(source = hfile, dest = dest, assay = assay, overwrite = overwrite, \n .     verbose = verbose, ...)",
      "5. Convert.H5File(source = hfile, dest = dest, assay = assay, overwrite = overwrite, \n .     verbose = verbose, ...)",
      "6. H5ADToH5Seurat(source = source, dest = dest, assay = assay, overwrite = overwrite, \n .     verbose = verbose)",
      "7. ColToFactor(dfgroup = dfile[[\"meta.data\"]])",
      "8. dfgroup$obj_copy_to(dst_loc = dfgroup, dst_name = tname, src_name = i)"
     ]
    }
   ],
   "source": [
    "list_of_datasets1 = c(\"butler_2019\", \"10X_malt_10k\", \"10X_pbmc_10k\", \"10X_pbmc_5k_nextgem\", \"10X_pbmc_5k_v3\", \"arunachalam_2020\", \"fournie_2020\", \"granja_2019_pbmc\")\n",
    "list_of_datasets2 = c(\"granja_2019_bmmc\", \"wang_2020\")\n",
    "list_of_datasets3 = c(\"witkovski_2020\", \"kotliarov_2020\")\n",
    "list_of_datasets4 = c(\"hao_2020\", \"su_2020\")\n",
    "# granja_2019_bmmc\n",
    "for (i in list_of_datasets4){\n",
    "    h5ad_to_seurat(i)\n",
    "    print(i)\n",
    "}"
   ]
  },
  {
   "cell_type": "code",
   "execution_count": 6,
   "id": "a1396848",
   "metadata": {},
   "outputs": [
    {
     "name": "stderr",
     "output_type": "stream",
     "text": [
      "Warning message:\n",
      "“Unknown file type: h5ad”\n"
     ]
    },
    {
     "ename": "ERROR",
     "evalue": "Error: Destination h5Seurat file exists\n",
     "output_type": "error",
     "traceback": [
      "Error: Destination h5Seurat file exists\nTraceback:\n",
      "1. Convert(paste(\"datasets/\", name, \".h5ad\", sep = \"\"), paste(\"seuratfiles/\", \n .     name, \".h5seurat\", sep = \"\"), assay = \"ADT\")",
      "2. Convert.character(paste(\"datasets/\", name, \".h5ad\", sep = \"\"), \n .     paste(\"seuratfiles/\", name, \".h5seurat\", sep = \"\"), assay = \"ADT\")",
      "3. Convert(source = hfile, dest = dest, assay = assay, overwrite = overwrite, \n .     verbose = verbose, ...)",
      "4. Convert.H5File(source = hfile, dest = dest, assay = assay, overwrite = overwrite, \n .     verbose = verbose, ...)",
      "5. H5ADToH5Seurat(source = source, dest = dest, assay = assay, overwrite = overwrite, \n .     verbose = verbose)",
      "6. stop(\"Destination h5Seurat file exists\", call. = FALSE)"
     ]
    }
   ],
   "source": [
    "name = \"kotliarov_2020\"\n",
    "Convert(paste(\"datasets/\", name, \".h5ad\", sep = \"\"), paste(\"seuratfiles/\", name, \".h5seurat\", sep = \"\"), assay = \"ADT\")"
   ]
  },
  {
   "cell_type": "code",
   "execution_count": null,
   "id": "a5b1d797",
   "metadata": {},
   "outputs": [],
   "source": []
  }
 ],
 "metadata": {
  "kernelspec": {
   "display_name": "R",
   "language": "R",
   "name": "ir"
  },
  "language_info": {
   "codemirror_mode": "r",
   "file_extension": ".r",
   "mimetype": "text/x-r-source",
   "name": "R",
   "pygments_lexer": "r",
   "version": "4.1.1"
  }
 },
 "nbformat": 4,
 "nbformat_minor": 5
}
