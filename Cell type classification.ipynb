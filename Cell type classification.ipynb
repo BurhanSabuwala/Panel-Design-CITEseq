{
 "cells": [
  {
   "cell_type": "code",
   "execution_count": 1,
   "id": "396f4d55",
   "metadata": {},
   "outputs": [],
   "source": [
    "import numpy as np\n",
    "import pandas as pd\n",
    "import matplotlib.pyplot as plt\n",
    "from scipy.stats import spearmanr, pearsonr\n",
    "\n",
    "def abs_avg(mat):\n",
    "    mat4 = mat.copy()\n",
    "    t = abs(mat4[0][-len(common_adt):].copy())/(len(mat4))\n",
    "    for i in range(1, len(mat4)):\n",
    "        t += abs(mat4[i][-len(common_adt):].copy())/len(mat4)\n",
    "    return t"
   ]
  },
  {
   "cell_type": "code",
   "execution_count": 2,
   "id": "e081b790",
   "metadata": {},
   "outputs": [],
   "source": [
    "name = \"witkowski_2020\"\n",
    "adt = pd.read_csv(\"csvfiles/\"+name+\"_adt_scaledata.csv\", index_col = 0).transpose()\n",
    "rna = pd.read_csv(\"csvfiles/\"+name+\"_rna_scaledata.csv\", index_col = 0).transpose()\n",
    "azi = pd.read_csv(\"csvfiles/\"+name+\"_azi_scaledata.csv\", index_col = 0).transpose()\n",
    "ctp = pd.read_csv(\"csvfiles/\"+name+\"_ctp_scaledata.csv\", index_col = 0).transpose()"
   ]
  },
  {
   "cell_type": "code",
   "execution_count": 3,
   "id": "c931f5a3",
   "metadata": {},
   "outputs": [],
   "source": [
    "cell_broad_labels = pd.read_csv(\"csvfiles/\" + name + \"_cell_type_l1.csv\", index_col = 0)\n",
    "cell_fine_labels = pd.read_csv(\"csvfiles/\" + name + \"_cell_type_l2.csv\", index_col = 0)"
   ]
  },
  {
   "cell_type": "code",
   "execution_count": 4,
   "id": "0d282284",
   "metadata": {},
   "outputs": [],
   "source": [
    "for i in range(len(cell_fine_labels)):\n",
    "    if cell_broad_labels['x'][i] == \"B\": # wang, witkowski and fournie\n",
    "        cell_fine_labels['x'][i] = cell_broad_labels['x'][i]\n",
    "    #elif cell_broad_labels['x'][i] == \"CD4 T\": # Wang \n",
    "    #    cell_fine_labels['x'][i] = cell_broad_labels['x'][i]\n",
    "    #elif cell_broad_labels['x'][i] == \"CD8 T\": # Wang\n",
    "    #    cell_fine_labels['x'][i] = cell_broad_labels['x'][i]"
   ]
  },
  {
   "cell_type": "code",
   "execution_count": 5,
   "id": "1e92c26c",
   "metadata": {},
   "outputs": [],
   "source": [
    "# Resolving cTPnet and Azimuth\n",
    "azi['CD11a'] = azi['CD11a/CD18']; \n",
    "azi['CD127-IL7Ra'] = azi['CD127']; \n",
    "#ctp['CD127'] = ctp['CD127-IL7Ra'];\n",
    "azi['CD56'] = 0.5*(azi['CD56-1'] + azi['CD56-2'])\n",
    "azi['CD3'] = 0.5*(azi['CD3-1'] + azi['CD3-2'])\n",
    "azi['CD278-ICOS'] = azi['CD278']\n",
    "#ctp['CD278'] = ctp['CD278-ICOS']\n",
    "azi['HLA.DR'] = azi['HLA-DR']\n",
    "azi['CD38'] = 0.5*(azi['CD38-1'] + azi['CD38-2'])\n",
    "azi['CD4'] = 0.5*(azi['CD4-1'] + azi['CD4-2'])"
   ]
  },
  {
   "cell_type": "code",
   "execution_count": 6,
   "id": "778b3cae",
   "metadata": {},
   "outputs": [
    {
     "data": {
      "text/plain": [
       "Index(['ADT-ArmenianHamsterIgG', 'ADT-CD10-MME', 'ADT-CD103-ITGAE',\n",
       "       'ADT-CD115-CSF1R', 'ADT-CD117-KIT', 'ADT-CD11B-ITGAM',\n",
       "       'ADT-CD11C-ITGAX', 'ADT-CD123-IL3RA', 'ADT-CD127-IL7R',\n",
       "       'ADT-CD13-ANPEP', 'ADT-CD134-TNFRSF4', 'ADT-CD135-FLT3',\n",
       "       'ADT-CD137-TNFRSF9', 'ADT-CD138-SDC1', 'ADT-CD14-CD14',\n",
       "       'ADT-CD140A-PDGFRA', 'ADT-CD140B-PDGFRB', 'ADT-CD141-THBD',\n",
       "       'ADT-CD144-CDH5', 'ADT-CD15-FUT4', 'ADT-CD152-CTLA4', 'ADT-CD155-PVR',\n",
       "       'ADT-CD16-FCGR3A', 'ADT-CD161-KLRB1', 'ADT-CD163-CD163',\n",
       "       'ADT-CD177-CD177', 'ADT-CD183-CXCR3', 'ADT-CD186-CXCR6',\n",
       "       'ADT-CD19-CD19', 'ADT-CD194-CCR4', 'ADT-CD197-CCR7', 'ADT-CD1A-CD1A',\n",
       "       'ADT-CD1C-CD1C', 'ADT-CD2-CD2', 'ADT-CD20-MS4A1', 'ADT-CD207-CD207',\n",
       "       'ADT-CD22-CD22', 'ADT-CD223-LAG3', 'ADT-CD235A-GYPA', 'ADT-CD244-CD244',\n",
       "       'ADT-CD25-IL2RA', 'ADT-CD26-DPP4', 'ADT-CD278-ICOS', 'ADT-CD279-PDCD1',\n",
       "       'ADT-CD294-PTGDR2', 'ADT-CD3-CD3D', 'ADT-CD31-PECAM1',\n",
       "       'ADT-CD326-EPCAM', 'ADT-CD33-CD33', 'ADT-CD34-CD34', 'ADT-CD36-CD36',\n",
       "       'ADT-CD38-CD38', 'ADT-CD4-CD4', 'ADT-CD41-ITGA2B', 'ADT-CD42B-GP1BA',\n",
       "       'ADT-CD43-SPN', 'ADT-CD45-PTPRC', 'ADT-CD45RA', 'ADT-CD45RO',\n",
       "       'ADT-CD48-CD48', 'ADT-CD49D-ITGA4', 'ADT-CD49F-ITGA6', 'ADT-CD5-CD5',\n",
       "       'ADT-CD54-ICAM1', 'ADT-CD56-NCAM1', 'ADT-CD61-ITGB3', 'ADT-CD64-FCGR1A',\n",
       "       'ADT-CD66B-CEACAM8', 'ADT-CD69-CD69', 'ADT-CD7-CD7', 'ADT-CD71-TFRC',\n",
       "       'ADT-CD8-CD8A', 'ADT-CD90-THY1', 'ADT-CD99-CD99', 'ADT-HLA-DR-CD74',\n",
       "       'ADT-IGD-IGHD', 'ADT-IGM-IGHM', 'ADT-MouseIgG1', 'ADT-MouseIgG2a',\n",
       "       'ADT-MouseIgG2b', 'ADT-PD1L1-CD274', 'ADT-RatIgG1', 'ADT-RatIgG2a',\n",
       "       'ADT-TIGIT-TIGIT'],\n",
       "      dtype='object')"
      ]
     },
     "execution_count": 6,
     "metadata": {},
     "output_type": "execute_result"
    }
   ],
   "source": [
    "adt.columns"
   ]
  },
  {
   "cell_type": "markdown",
   "id": "ab90febd",
   "metadata": {},
   "source": [
    "### Changable"
   ]
  },
  {
   "cell_type": "code",
   "execution_count": 7,
   "id": "fde3cb29",
   "metadata": {},
   "outputs": [],
   "source": [
    "\"\"\" Witkowski 2020 \"\"\"\n",
    "adt_list = list(adt.columns)\n",
    "for i in adt_list:\n",
    "    adt[i.split('-')[1]] = adt[i]\n",
    "adt['HLA.DR'] = adt['HLA']\n",
    "adt['CD11c'] = adt['CD11C']\n",
    "len(adt.columns)\n",
    "adt['CD8a'] = adt['CD8']"
   ]
  },
  {
   "cell_type": "code",
   "execution_count": 7,
   "id": "8336c138",
   "metadata": {},
   "outputs": [],
   "source": [
    "# Fournie 2020\n",
    "for i in adt.columns:\n",
    "    adt[i[:len(i)-3]] = adt[i]\n",
    "#adt['CD45RO'] = adt['CD45RA']"
   ]
  },
  {
   "cell_type": "code",
   "execution_count": 79,
   "id": "77db6988",
   "metadata": {},
   "outputs": [],
   "source": [
    "# Wang 2020 \n",
    "adt['CD154'] = adt['CD154-GCTAGATAGATGCAA']; adt['CD4'] = adt['CD4-GAGGTTAGTGATGGA'];\n",
    "adt['CD56'] = adt['CD56-TCCTTTCCTGATAGG']; adt['CD3'] = adt['CD3-TATCCCTTGGGATGG'];\n",
    "adt['CD19'] = adt['CD19-CTGGGCAATTACTCG']; adt['CD14'] = adt['CD14-CAATCAGACCTATGA'];\n",
    "adt['CD11c'] = adt['CD11c-TACGCCTATAACTTG']; adt['CD8a'] = adt['CD8a-GCTGCGCTTTCCATT'];\n",
    "adt['CD16'] = adt['CD16-AAGTTCACTCTTTGC']; adt['CD127'] = adt['CD127-GTGTGTTGTCCTATG'];"
   ]
  },
  {
   "cell_type": "code",
   "execution_count": 8,
   "id": "c36ab18e",
   "metadata": {},
   "outputs": [
    {
     "data": {
      "text/plain": [
       "(17,\n",
       " {'CD11c',\n",
       "  'CD123',\n",
       "  'CD14',\n",
       "  'CD16',\n",
       "  'CD161',\n",
       "  'CD19',\n",
       "  'CD2',\n",
       "  'CD3',\n",
       "  'CD34',\n",
       "  'CD38',\n",
       "  'CD4',\n",
       "  'CD45RA',\n",
       "  'CD45RO',\n",
       "  'CD56',\n",
       "  'CD69',\n",
       "  'CD8',\n",
       "  'HLA.DR'})"
      ]
     },
     "execution_count": 8,
     "metadata": {},
     "output_type": "execute_result"
    }
   ],
   "source": [
    "len(set(adt.columns).intersection(set(ctp.columns)).intersection(set(azi.columns))), (set(adt.columns).intersection(set(ctp.columns)).intersection(set(azi.columns)))"
   ]
  },
  {
   "cell_type": "code",
   "execution_count": 9,
   "id": "3dec0bd0",
   "metadata": {},
   "outputs": [
    {
     "data": {
      "text/plain": [
       "({'ADT-ArmenianHamsterIgG',\n",
       "  'ADT-CD10-MME',\n",
       "  'ADT-CD103-ITGAE',\n",
       "  'ADT-CD115-CSF1R',\n",
       "  'ADT-CD117-KIT',\n",
       "  'ADT-CD11B-ITGAM',\n",
       "  'ADT-CD11C-ITGAX',\n",
       "  'ADT-CD123-IL3RA',\n",
       "  'ADT-CD127-IL7R',\n",
       "  'ADT-CD13-ANPEP',\n",
       "  'ADT-CD134-TNFRSF4',\n",
       "  'ADT-CD135-FLT3',\n",
       "  'ADT-CD137-TNFRSF9',\n",
       "  'ADT-CD138-SDC1',\n",
       "  'ADT-CD14-CD14',\n",
       "  'ADT-CD140A-PDGFRA',\n",
       "  'ADT-CD140B-PDGFRB',\n",
       "  'ADT-CD141-THBD',\n",
       "  'ADT-CD144-CDH5',\n",
       "  'ADT-CD15-FUT4',\n",
       "  'ADT-CD152-CTLA4',\n",
       "  'ADT-CD155-PVR',\n",
       "  'ADT-CD16-FCGR3A',\n",
       "  'ADT-CD161-KLRB1',\n",
       "  'ADT-CD163-CD163',\n",
       "  'ADT-CD177-CD177',\n",
       "  'ADT-CD183-CXCR3',\n",
       "  'ADT-CD186-CXCR6',\n",
       "  'ADT-CD19-CD19',\n",
       "  'ADT-CD194-CCR4',\n",
       "  'ADT-CD197-CCR7',\n",
       "  'ADT-CD1A-CD1A',\n",
       "  'ADT-CD1C-CD1C',\n",
       "  'ADT-CD2-CD2',\n",
       "  'ADT-CD20-MS4A1',\n",
       "  'ADT-CD207-CD207',\n",
       "  'ADT-CD22-CD22',\n",
       "  'ADT-CD223-LAG3',\n",
       "  'ADT-CD235A-GYPA',\n",
       "  'ADT-CD244-CD244',\n",
       "  'ADT-CD25-IL2RA',\n",
       "  'ADT-CD26-DPP4',\n",
       "  'ADT-CD278-ICOS',\n",
       "  'ADT-CD279-PDCD1',\n",
       "  'ADT-CD294-PTGDR2',\n",
       "  'ADT-CD3-CD3D',\n",
       "  'ADT-CD31-PECAM1',\n",
       "  'ADT-CD326-EPCAM',\n",
       "  'ADT-CD33-CD33',\n",
       "  'ADT-CD34-CD34',\n",
       "  'ADT-CD36-CD36',\n",
       "  'ADT-CD38-CD38',\n",
       "  'ADT-CD4-CD4',\n",
       "  'ADT-CD41-ITGA2B',\n",
       "  'ADT-CD42B-GP1BA',\n",
       "  'ADT-CD43-SPN',\n",
       "  'ADT-CD45-PTPRC',\n",
       "  'ADT-CD45RA',\n",
       "  'ADT-CD45RO',\n",
       "  'ADT-CD48-CD48',\n",
       "  'ADT-CD49D-ITGA4',\n",
       "  'ADT-CD49F-ITGA6',\n",
       "  'ADT-CD5-CD5',\n",
       "  'ADT-CD54-ICAM1',\n",
       "  'ADT-CD56-NCAM1',\n",
       "  'ADT-CD61-ITGB3',\n",
       "  'ADT-CD64-FCGR1A',\n",
       "  'ADT-CD66B-CEACAM8',\n",
       "  'ADT-CD69-CD69',\n",
       "  'ADT-CD7-CD7',\n",
       "  'ADT-CD71-TFRC',\n",
       "  'ADT-CD8-CD8A',\n",
       "  'ADT-CD90-THY1',\n",
       "  'ADT-CD99-CD99',\n",
       "  'ADT-HLA-DR-CD74',\n",
       "  'ADT-IGD-IGHD',\n",
       "  'ADT-IGM-IGHM',\n",
       "  'ADT-MouseIgG1',\n",
       "  'ADT-MouseIgG2a',\n",
       "  'ADT-MouseIgG2b',\n",
       "  'ADT-PD1L1-CD274',\n",
       "  'ADT-RatIgG1',\n",
       "  'ADT-RatIgG2a',\n",
       "  'ADT-TIGIT-TIGIT',\n",
       "  'ArmenianHamsterIgG',\n",
       "  'CD10',\n",
       "  'CD103',\n",
       "  'CD115',\n",
       "  'CD117',\n",
       "  'CD11B',\n",
       "  'CD11C',\n",
       "  'CD127',\n",
       "  'CD13',\n",
       "  'CD134',\n",
       "  'CD135',\n",
       "  'CD137',\n",
       "  'CD138',\n",
       "  'CD140A',\n",
       "  'CD140B',\n",
       "  'CD141',\n",
       "  'CD144',\n",
       "  'CD15',\n",
       "  'CD152',\n",
       "  'CD155',\n",
       "  'CD163',\n",
       "  'CD177',\n",
       "  'CD183',\n",
       "  'CD186',\n",
       "  'CD194',\n",
       "  'CD197',\n",
       "  'CD1A',\n",
       "  'CD1C',\n",
       "  'CD20',\n",
       "  'CD207',\n",
       "  'CD22',\n",
       "  'CD223',\n",
       "  'CD235A',\n",
       "  'CD244',\n",
       "  'CD25',\n",
       "  'CD26',\n",
       "  'CD278',\n",
       "  'CD279',\n",
       "  'CD294',\n",
       "  'CD31',\n",
       "  'CD326',\n",
       "  'CD33',\n",
       "  'CD36',\n",
       "  'CD41',\n",
       "  'CD42B',\n",
       "  'CD43',\n",
       "  'CD45',\n",
       "  'CD48',\n",
       "  'CD49D',\n",
       "  'CD49F',\n",
       "  'CD5',\n",
       "  'CD54',\n",
       "  'CD61',\n",
       "  'CD64',\n",
       "  'CD66B',\n",
       "  'CD7',\n",
       "  'CD71',\n",
       "  'CD8a',\n",
       "  'CD90',\n",
       "  'CD99',\n",
       "  'HLA',\n",
       "  'IGD',\n",
       "  'IGM',\n",
       "  'MouseIgG1',\n",
       "  'MouseIgG2a',\n",
       "  'MouseIgG2b',\n",
       "  'PD1L1',\n",
       "  'RatIgG1',\n",
       "  'RatIgG2a',\n",
       "  'TIGIT'},\n",
       " {'CD11a', 'CD127-IL7Ra', 'CD27', 'CD278-ICOS', 'CD28', 'CD57', 'CD79b'})"
      ]
     },
     "execution_count": 9,
     "metadata": {},
     "output_type": "execute_result"
    }
   ],
   "source": [
    "set(adt.columns) - set(ctp.columns), set(ctp.columns) - set(adt.columns)"
   ]
  },
  {
   "cell_type": "code",
   "execution_count": 10,
   "id": "35a83d8f",
   "metadata": {},
   "outputs": [],
   "source": [
    "ctpadt = ctp.copy()\n",
    "aziadt = azi.copy()"
   ]
  },
  {
   "cell_type": "markdown",
   "id": "5d140e0a",
   "metadata": {},
   "source": [
    "## Prediction Evaluations"
   ]
  },
  {
   "cell_type": "code",
   "execution_count": 11,
   "id": "79fa22c3",
   "metadata": {},
   "outputs": [
    {
     "name": "stdout",
     "output_type": "stream",
     "text": [
      "ADT marker, corr cTPnet, corr Azimuth\n",
      "CD16 , 0.21526478612310362 , 0.13258672412549627\n",
      "CD34 , 0.2812467523430147 , 0.4245192097494115\n",
      "CD4 , 0.6095472926190345 , 0.5705782472526759\n",
      "CD19 , 0.3620444949011539 , 0.10139975143439654\n",
      "CD56 , 0.011139974596519185 , 0.04476459727957611\n",
      "CD45RA , 0.48101216372181566 , 0.28838448294787405\n",
      "CD45RO , 0.4148678368328672 , 0.39035880921653254\n",
      "HLA.DR , 0.4158441310526685 , 0.5685924257925773\n",
      "CD8 , 0.4960137256122248 , 0.6479539429858546\n",
      "CD69 , 0.154997621508312 , 0.19721083097839773\n",
      "CD2 , 0.6571074028984266 , 0.7084549657207524\n",
      "CD11c , 0.6265653607927529 , 0.6151963385774893\n",
      "CD161 , 0.13863802827070024 , 0.20412948040718307\n",
      "CD38 , 0.45146787891255535 , 0.7139618366149014\n",
      "CD14 , 0.3330485285928454 , 0.4910317935963765\n",
      "CD3 , 0.7147909938264057 , 0.7525331439778429\n",
      "CD123 , 0.5064873910244304 , 0.5252684860954175\n"
     ]
    }
   ],
   "source": [
    "print(\"ADT marker, corr cTPnet, corr Azimuth\")\n",
    "for adt_marker in set(ctp.columns).intersection(set(adt.columns)):\n",
    "    print(adt_marker, \",\", spearmanr(adt[adt_marker], ctp[adt_marker])[0], \",\", spearmanr(adt[adt_marker], azi[adt_marker])[0])"
   ]
  },
  {
   "cell_type": "code",
   "execution_count": 12,
   "id": "79514160",
   "metadata": {},
   "outputs": [],
   "source": [
    "#critical_list = ['CD19', 'CD8','CD16'] # Fournie\n",
    "#critical_list = ['CD56', 'CD14', 'CD19', 'HLA.DR'] # Witkowski\n",
    "#critical_list = ['CD56', 'CD14', 'CD19', 'CD45RA', 'CD69', 'CD161'] # Witkowski - 0.4\n",
    "#critical_list = ['CD14', 'CD4', 'CD3', 'CD19', 'CD56'] # Witkowski - broad labels - leading edge\n",
    "#critical_list = ['CD14', 'CD4', 'CD3', 'CD19', 'CD56', 'HLA.DR'] # Witkowski - broad labels - leading edge soft\n",
    "#critical_list = ['CD56', 'CD16', 'CD45RA','CD4'] # Witkowski - fine labels - leading edge\n",
    "critical_list = ['CD56', 'CD16', 'CD45RA','CD4', 'CD14','CD19', 'CD45RO'] # Witkowski - fine labels - leading edge soft\n",
    "#critical_list = ['CD19', 'CD14'] # Wang - 0.4\n",
    "#critical_list = ['CD19', 'CD56'] # Wang\n",
    "#critical_list = ['CD16', 'CD56', 'CD57', 'CD79b', 'CD161', 'CD19', 'CD11a'] # Butler_2019 - 0.4\n",
    "#critical_list = ['CD4', 'CD19', 'CD56', 'CD16', 'CD79b'] # Butler_2019 - broad labels \n",
    "#critical_list = ['CD4', 'CD19', 'CD56'] # Butler_2019 - broad labels - leading edge\n",
    "#critical_list = ['CD4', 'CD19', 'CD56', 'CD3', 'CD16','CD57'] # Butler_2019 - broad labels - leading edge soft\n",
    "#critical_list = ['CD4', 'CD45RO', 'CD16', 'CD19', 'CD56'] # Butler_2019 - fine labels\n",
    "#critical_list = ['CD4', 'CD45RO', 'CD16', 'CD19', 'CD56'] # Butler_2019 - fine labels - leading edge\n",
    "#critical_list = ['CD4', 'CD45RO', 'CD16', 'CD19', 'CD56', 'CD3', 'CD45RA', 'CD14', 'CD57'] # Butler_2019 - fine labels - leading edge soft\n",
    "for i in critical_list:\n",
    "    ctpadt[i] = adt[i]\n",
    "    aziadt[i] = adt[i]\n"
   ]
  },
  {
   "cell_type": "markdown",
   "id": "c165c335",
   "metadata": {},
   "source": [
    "## Logistic Regression Classification for cell type labels"
   ]
  },
  {
   "cell_type": "code",
   "execution_count": 13,
   "id": "a394d400",
   "metadata": {},
   "outputs": [
    {
     "data": {
      "text/plain": [
       "17"
      ]
     },
     "execution_count": 13,
     "metadata": {},
     "output_type": "execute_result"
    }
   ],
   "source": [
    "common_adt = list(set(ctp.columns).intersection(set(adt.columns)));\n",
    "len(common_adt)"
   ]
  },
  {
   "cell_type": "code",
   "execution_count": 14,
   "id": "72df565d",
   "metadata": {},
   "outputs": [],
   "source": [
    "from sklearn.metrics import accuracy_score, f1_score, matthews_corrcoef\n",
    "from sklearn.linear_model import LogisticRegression\n",
    "from sklearn.model_selection import train_test_split"
   ]
  },
  {
   "cell_type": "markdown",
   "id": "f065710d",
   "metadata": {},
   "source": [
    "## Broad Labels"
   ]
  },
  {
   "cell_type": "code",
   "execution_count": 36,
   "id": "04d7b7f6",
   "metadata": {},
   "outputs": [],
   "source": [
    "random_seed = 12 # 42, 43, 57, 123, 12\n",
    "\n",
    "X1_train, X1_test = train_test_split(rna, test_size = 0.2, random_state = random_seed)\n",
    "X2_train, X2_test = train_test_split(pd.concat([rna,azi[common_adt]],axis = 1), test_size = 0.2, random_state = random_seed)\n",
    "X25_train, X25_test = train_test_split(pd.concat([rna,aziadt[common_adt]],axis = 1), test_size = 0.2, random_state = random_seed)\n",
    "X3_train, X3_test = train_test_split(pd.concat([rna, ctp[common_adt]],axis = 1), test_size = 0.2, random_state = random_seed)\n",
    "X35_train, X35_test = train_test_split(pd.concat([rna, ctpadt[common_adt]],axis = 1), test_size = 0.2, random_state = random_seed)\n",
    "X4_train, X4_test, y_train, y_test = train_test_split(pd.concat([rna,adt[common_adt]],axis = 1), cell_broad_labels, test_size = 0.2, random_state = random_seed)\n",
    "\n",
    "perf = []\n",
    "\n",
    "X2a_train, X2a_test = train_test_split(azi[common_adt], test_size = 0.2, random_state = random_seed)\n",
    "X25a_train, X25a_test = train_test_split(aziadt[common_adt], test_size = 0.2, random_state = random_seed)\n",
    "X3a_train, X3a_test = train_test_split(ctp[common_adt], test_size = 0.2, random_state = random_seed)\n",
    "X35a_train, X35a_test = train_test_split(ctpadt[common_adt], test_size = 0.2, random_state = random_seed)\n",
    "X4a_train, X4a_test = train_test_split(adt[common_adt], test_size = 0.2, random_state = random_seed)"
   ]
  },
  {
   "cell_type": "code",
   "execution_count": 28,
   "id": "5926c793",
   "metadata": {},
   "outputs": [
    {
     "name": "stderr",
     "output_type": "stream",
     "text": [
      "/home/burhan/.conda/envs/clone/lib/python3.9/site-packages/sklearn/utils/validation.py:985: DataConversionWarning: A column-vector y was passed when a 1d array was expected. Please change the shape of y to (n_samples, ), for example using ravel().\n",
      "  y = column_or_1d(y, warn=True)\n"
     ]
    }
   ],
   "source": [
    "model1 = LogisticRegression(max_iter = 1000).fit(X1_train, y_train)\n",
    "y1_pred = model1.predict(X1_test)"
   ]
  },
  {
   "cell_type": "code",
   "execution_count": 29,
   "id": "dccdb78d",
   "metadata": {},
   "outputs": [
    {
     "name": "stdout",
     "output_type": "stream",
     "text": [
      "Accuracy:  0.810641159766851\n",
      "F1score (micro):  0.810641159766851\n",
      "F1score (macro):  0.763348829392761\n",
      "MCC:  0.7668603198736462\n"
     ]
    }
   ],
   "source": [
    "print(\"Accuracy: \", accuracy_score(y_test, y1_pred))\n",
    "print(\"F1score (micro): \", f1_score(y_test, y1_pred, average = \"micro\"))\n",
    "print(\"F1score (macro): \", f1_score(y_test, y1_pred, average = \"macro\"))\n",
    "print(\"MCC: \", matthews_corrcoef(y_test, y1_pred))\n",
    "perf.append([accuracy_score(y_test, y1_pred), f1_score(y_test, y1_pred, average = \"micro\") , f1_score(y_test, y1_pred, average = \"macro\"), matthews_corrcoef(y_test, y1_pred)])"
   ]
  },
  {
   "cell_type": "code",
   "execution_count": 30,
   "id": "3f35ae80",
   "metadata": {},
   "outputs": [
    {
     "name": "stderr",
     "output_type": "stream",
     "text": [
      "/home/burhan/.conda/envs/clone/lib/python3.9/site-packages/sklearn/utils/validation.py:985: DataConversionWarning: A column-vector y was passed when a 1d array was expected. Please change the shape of y to (n_samples, ), for example using ravel().\n",
      "  y = column_or_1d(y, warn=True)\n"
     ]
    }
   ],
   "source": [
    "model2 = LogisticRegression(max_iter = 1000).fit(X2_train, y_train)\n",
    "y2_pred = model2.predict(X2_test)"
   ]
  },
  {
   "cell_type": "code",
   "execution_count": 31,
   "id": "442fc2de",
   "metadata": {},
   "outputs": [
    {
     "name": "stdout",
     "output_type": "stream",
     "text": [
      "Accuracy:  0.8146764310267524\n",
      "F1score (micro):  0.8146764310267525\n",
      "F1score (macro):  0.7694275455988223\n",
      "MCC:  0.7718952651648862\n"
     ]
    }
   ],
   "source": [
    "print(\"Accuracy: \", accuracy_score(y_test, y2_pred))\n",
    "print(\"F1score (micro): \", f1_score(y_test, y2_pred, average = \"micro\"))\n",
    "print(\"F1score (macro): \", f1_score(y_test, y2_pred, average = \"macro\"))\n",
    "print(\"MCC: \", matthews_corrcoef(y_test, y2_pred))\n",
    "perf.append([accuracy_score(y_test, y2_pred), f1_score(y_test, y2_pred, average = \"micro\") , f1_score(y_test, y2_pred, average = \"macro\"), matthews_corrcoef(y_test, y2_pred)])"
   ]
  },
  {
   "cell_type": "code",
   "execution_count": 32,
   "id": "a97b5bc5",
   "metadata": {},
   "outputs": [
    {
     "name": "stderr",
     "output_type": "stream",
     "text": [
      "/home/burhan/.conda/envs/clone/lib/python3.9/site-packages/sklearn/utils/validation.py:985: DataConversionWarning: A column-vector y was passed when a 1d array was expected. Please change the shape of y to (n_samples, ), for example using ravel().\n",
      "  y = column_or_1d(y, warn=True)\n"
     ]
    }
   ],
   "source": [
    "model3 = LogisticRegression(max_iter = 1000).fit(X3_train, y_train)\n",
    "y3_pred = model3.predict(X3_test)"
   ]
  },
  {
   "cell_type": "code",
   "execution_count": 33,
   "id": "c4b839e8",
   "metadata": {},
   "outputs": [
    {
     "name": "stdout",
     "output_type": "stream",
     "text": [
      "Accuracy:  0.8236437004931998\n",
      "F1score (micro):  0.8236437004931998\n",
      "F1score (macro):  0.7791419441508179\n",
      "MCC:  0.7830292863737653\n"
     ]
    }
   ],
   "source": [
    "print(\"Accuracy: \", accuracy_score(y_test, y3_pred))\n",
    "print(\"F1score (micro): \", f1_score(y_test, y3_pred, average = \"micro\"))\n",
    "print(\"F1score (macro): \", f1_score(y_test, y3_pred, average = \"macro\"))\n",
    "print(\"MCC: \", matthews_corrcoef(y_test, y3_pred))\n",
    "perf.append([accuracy_score(y_test, y3_pred), f1_score(y_test, y3_pred, average = \"micro\") , f1_score(y_test, y3_pred, average = \"macro\"), matthews_corrcoef(y_test, y3_pred)])"
   ]
  },
  {
   "cell_type": "code",
   "execution_count": 70,
   "id": "f6894855",
   "metadata": {},
   "outputs": [
    {
     "name": "stderr",
     "output_type": "stream",
     "text": [
      "/home/burhan/.conda/envs/clone/lib/python3.9/site-packages/sklearn/utils/validation.py:985: DataConversionWarning: A column-vector y was passed when a 1d array was expected. Please change the shape of y to (n_samples, ), for example using ravel().\n",
      "  y = column_or_1d(y, warn=True)\n",
      "/home/burhan/.conda/envs/clone/lib/python3.9/site-packages/sklearn/linear_model/_logistic.py:814: ConvergenceWarning: lbfgs failed to converge (status=1):\n",
      "STOP: TOTAL NO. of ITERATIONS REACHED LIMIT.\n",
      "\n",
      "Increase the number of iterations (max_iter) or scale the data as shown in:\n",
      "    https://scikit-learn.org/stable/modules/preprocessing.html\n",
      "Please also refer to the documentation for alternative solver options:\n",
      "    https://scikit-learn.org/stable/modules/linear_model.html#logistic-regression\n",
      "  n_iter_i = _check_optimize_result(\n"
     ]
    }
   ],
   "source": [
    "model25 = LogisticRegression(max_iter = 1500).fit(X25_train, y_train)\n",
    "y25_pred = model25.predict(X25_test)"
   ]
  },
  {
   "cell_type": "code",
   "execution_count": 71,
   "id": "c91c0acb",
   "metadata": {},
   "outputs": [
    {
     "name": "stdout",
     "output_type": "stream",
     "text": [
      "Accuracy:  0.8457478005865102\n",
      "F1score (micro):  0.8457478005865102\n",
      "F1score (macro):  0.8396477467810879\n",
      "MCC:  0.8099426201227614\n"
     ]
    }
   ],
   "source": [
    "print(\"Accuracy: \", accuracy_score(y_test, y25_pred))\n",
    "print(\"F1score (micro): \", f1_score(y_test, y25_pred, average = \"micro\"))\n",
    "print(\"F1score (macro): \", f1_score(y_test, y25_pred, average = \"macro\"))\n",
    "print(\"MCC: \", matthews_corrcoef(y_test, y25_pred))\n",
    "perf.append([accuracy_score(y_test, y25_pred), f1_score(y_test, y25_pred, average = \"micro\") , f1_score(y_test, y25_pred, average = \"macro\"), matthews_corrcoef(y_test, y25_pred)])"
   ]
  },
  {
   "cell_type": "code",
   "execution_count": 72,
   "id": "a5abb257",
   "metadata": {},
   "outputs": [
    {
     "name": "stderr",
     "output_type": "stream",
     "text": [
      "/home/burhan/.conda/envs/clone/lib/python3.9/site-packages/sklearn/utils/validation.py:985: DataConversionWarning: A column-vector y was passed when a 1d array was expected. Please change the shape of y to (n_samples, ), for example using ravel().\n",
      "  y = column_or_1d(y, warn=True)\n",
      "/home/burhan/.conda/envs/clone/lib/python3.9/site-packages/sklearn/linear_model/_logistic.py:814: ConvergenceWarning: lbfgs failed to converge (status=1):\n",
      "STOP: TOTAL NO. of ITERATIONS REACHED LIMIT.\n",
      "\n",
      "Increase the number of iterations (max_iter) or scale the data as shown in:\n",
      "    https://scikit-learn.org/stable/modules/preprocessing.html\n",
      "Please also refer to the documentation for alternative solver options:\n",
      "    https://scikit-learn.org/stable/modules/linear_model.html#logistic-regression\n",
      "  n_iter_i = _check_optimize_result(\n"
     ]
    }
   ],
   "source": [
    "model35 = LogisticRegression(max_iter = 1500).fit(X35_train, y_train)\n",
    "y35_pred = model35.predict(X35_test)"
   ]
  },
  {
   "cell_type": "code",
   "execution_count": 73,
   "id": "8cf6d653",
   "metadata": {},
   "outputs": [
    {
     "name": "stdout",
     "output_type": "stream",
     "text": [
      "Accuracy:  0.8453958944281524\n",
      "F1score (micro):  0.8453958944281524\n",
      "F1score (macro):  0.8396893545018213\n",
      "MCC:  0.809499923798941\n"
     ]
    }
   ],
   "source": [
    "print(\"Accuracy: \", accuracy_score(y_test, y35_pred))\n",
    "print(\"F1score (micro): \", f1_score(y_test, y35_pred, average = \"micro\"))\n",
    "print(\"F1score (macro): \", f1_score(y_test, y35_pred, average = \"macro\"))\n",
    "print(\"MCC: \", matthews_corrcoef(y_test, y35_pred))\n",
    "perf.append([accuracy_score(y_test, y35_pred), f1_score(y_test, y35_pred, average = \"micro\") , f1_score(y_test, y35_pred, average = \"macro\"), matthews_corrcoef(y_test, y35_pred)])"
   ]
  },
  {
   "cell_type": "code",
   "execution_count": 38,
   "id": "da3af76d",
   "metadata": {},
   "outputs": [
    {
     "name": "stderr",
     "output_type": "stream",
     "text": [
      "/home/burhan/.conda/envs/clone/lib/python3.9/site-packages/sklearn/utils/validation.py:985: DataConversionWarning: A column-vector y was passed when a 1d array was expected. Please change the shape of y to (n_samples, ), for example using ravel().\n",
      "  y = column_or_1d(y, warn=True)\n"
     ]
    }
   ],
   "source": [
    "model4 = LogisticRegression(max_iter = 1000).fit(X4_train, y_train)\n",
    "y4_pred = model4.predict(X4_test)"
   ]
  },
  {
   "cell_type": "code",
   "execution_count": 39,
   "id": "a563a569",
   "metadata": {},
   "outputs": [
    {
     "name": "stdout",
     "output_type": "stream",
     "text": [
      "Accuracy:  0.87595277238081\n",
      "F1score (micro):  0.87595277238081\n",
      "F1score (macro):  0.8298705460137549\n",
      "MCC:  0.8471455493611437\n"
     ]
    }
   ],
   "source": [
    "print(\"Accuracy: \", accuracy_score(y_test, y4_pred))\n",
    "print(\"F1score (micro): \", f1_score(y_test, y4_pred, average = \"micro\"))\n",
    "print(\"F1score (macro): \", f1_score(y_test, y4_pred, average = \"macro\"))\n",
    "print(\"MCC: \", matthews_corrcoef(y_test, y4_pred))\n",
    "perf.append([accuracy_score(y_test, y4_pred), f1_score(y_test, y4_pred, average = \"micro\") , f1_score(y_test, y4_pred, average = \"macro\"), matthews_corrcoef(y_test, y4_pred)])"
   ]
  },
  {
   "cell_type": "code",
   "execution_count": 74,
   "id": "ac52db9e",
   "metadata": {},
   "outputs": [],
   "source": [
    "np.savetxt(\"temp_broad_labels3-1.csv\", np.array(perf).transpose(), delimiter = \",\")"
   ]
  },
  {
   "cell_type": "code",
   "execution_count": 15,
   "id": "8da2389f",
   "metadata": {
    "scrolled": true
   },
   "outputs": [
    {
     "name": "stdout",
     "output_type": "stream",
     "text": [
      "0.7993307721399083 0.335993726915352\n",
      "0.5133793767994326 0.6670213266074337\n",
      "0.7353736408573432 0.7779650458790544\n",
      "0.7501001479412296 0.48386358351077574\n",
      "0.6128524790714747 0.6477447408222406\n",
      "0.8440302893742417 1.7992911422947675\n",
      "0.8475973725638919 0.4708229320015548\n",
      "0.40891153623719 0.19780259656214672\n",
      "0.2509373106367122 0.25155421051061694\n",
      "0.7899727484718426 0.3697031325921417\n",
      "0.6129848162264746 0.21889409465750684\n",
      "0.410661938468113 1.4391156182912148\n",
      "0.3447691745470824 0.6878429462149211\n",
      "0.3494907337820048 0.5190823179364673\n",
      "0.4435653369756061 0.34741288910350243\n",
      "0.6156484097055874 1.2464700456558333\n",
      "0.7962694182143697 0.417176914105824\n",
      "0.20760738649155128 0.7622685998627808\n",
      "0.7627244416363104 0.6479739323153048\n",
      "0.7685319052485292 2.458545810784735\n",
      "0.829811876562635 1.0407373906687252\n",
      "0.5288981671110008 0.297960335457698\n"
     ]
    },
    {
     "data": {
      "image/png": "[encoded data removed]",
      "text/plain": [
       "<Figure size 252x216 with 1 Axes>"
      ]
     },
     "metadata": {
      "needs_background": "light"
     },
     "output_type": "display_data"
    }
   ],
   "source": [
    "plt.figure(figsize = (3.5,3))\n",
    "y_coords = abs_avg(model4.coef_)\n",
    "for i in range(len(common_adt)):\n",
    "    #plt.scatter(spearmanr(adt[common_adt[i]], ctp[common_adt[i]])[0], np.log(abs(model3.coef_[0][-len(common_adt):][i])))\n",
    "    plt.scatter((spearmanr(adt[common_adt[i]], ctp[common_adt[i]])[0] + spearmanr(adt[common_adt[i]], azi[common_adt[i]])[0])/2, y_coords[i], label = common_adt[i])\n",
    "    #plt.text(spearmanr(adt[common_adt[i]], ctp[common_adt[i]])[0], np.log(abs(model3.coef_[0][-len(common_adt):][i])), s = common_adt[i])\n",
    "    plt.text((spearmanr(adt[common_adt[i]], ctp[common_adt[i]])[0] + spearmanr(adt[common_adt[i]], azi[common_adt[i]])[0])/2, y_coords[i], s = common_adt[i])\n",
    "    print((spearmanr(adt[common_adt[i]], ctp[common_adt[i]])[0] + spearmanr(adt[common_adt[i]], azi[common_adt[i]])[0])/2, y_coords[i])\n",
    "plt.xlabel(\"Average Predictability\")\n",
    "plt.ylabel(\"Average Feature Importance\")\n",
    "plt.xlim(0,1)\n",
    "plt.ylim(0, max(y_coords)*1.1)\n",
    "#plt.legend(loc = \"upper left\", bbox_to_anchor = (1.01,1.0))\n",
    "plt.tight_layout()\n",
    "plt.show()"
   ]
  },
  {
   "cell_type": "code",
   "execution_count": 21,
   "id": "bfe74034",
   "metadata": {},
   "outputs": [
    {
     "ename": "NameError",
     "evalue": "name 'model2' is not defined",
     "output_type": "error",
     "traceback": [
      "\u001b[0;31m---------------------------------------------------------------------------\u001b[0m",
      "\u001b[0;31mNameError\u001b[0m                                 Traceback (most recent call last)",
      "\u001b[0;32m<ipython-input-21-761e3f4c201d>\u001b[0m in \u001b[0;36m<module>\u001b[0;34m\u001b[0m\n\u001b[1;32m      3\u001b[0m     \u001b[0;31m#plt.scatter(spearmanr(adt[common_adt[i]], azi[common_adt[i]])[0], np.log(abs(model2.coef_[0][-len(common_adt):][i])))\u001b[0m\u001b[0;34m\u001b[0m\u001b[0;34m\u001b[0m\u001b[0;34m\u001b[0m\u001b[0m\n\u001b[1;32m      4\u001b[0m     \u001b[0;31m#plt.text(spearmanr(adt[common_adt[i]], azi[common_adt[i]])[0], np.log(abs(model2.coef_[0][-len(common_adt):][i])), s = common_adt[i])\u001b[0m\u001b[0;34m\u001b[0m\u001b[0;34m\u001b[0m\u001b[0;34m\u001b[0m\u001b[0m\n\u001b[0;32m----> 5\u001b[0;31m     \u001b[0mplt\u001b[0m\u001b[0;34m.\u001b[0m\u001b[0mscatter\u001b[0m\u001b[0;34m(\u001b[0m\u001b[0mspearmanr\u001b[0m\u001b[0;34m(\u001b[0m\u001b[0madt\u001b[0m\u001b[0;34m[\u001b[0m\u001b[0mcommon_adt\u001b[0m\u001b[0;34m[\u001b[0m\u001b[0mi\u001b[0m\u001b[0;34m]\u001b[0m\u001b[0;34m]\u001b[0m\u001b[0;34m,\u001b[0m \u001b[0mazi\u001b[0m\u001b[0;34m[\u001b[0m\u001b[0mcommon_adt\u001b[0m\u001b[0;34m[\u001b[0m\u001b[0mi\u001b[0m\u001b[0;34m]\u001b[0m\u001b[0;34m]\u001b[0m\u001b[0;34m)\u001b[0m\u001b[0;34m[\u001b[0m\u001b[0;36m0\u001b[0m\u001b[0;34m]\u001b[0m\u001b[0;34m,\u001b[0m \u001b[0;34m(\u001b[0m\u001b[0mabs\u001b[0m\u001b[0;34m(\u001b[0m\u001b[0mmodel2\u001b[0m\u001b[0;34m.\u001b[0m\u001b[0mcoef_\u001b[0m\u001b[0;34m[\u001b[0m\u001b[0;36m0\u001b[0m\u001b[0;34m]\u001b[0m\u001b[0;34m[\u001b[0m\u001b[0;34m-\u001b[0m\u001b[0mlen\u001b[0m\u001b[0;34m(\u001b[0m\u001b[0mcommon_adt\u001b[0m\u001b[0;34m)\u001b[0m\u001b[0;34m:\u001b[0m\u001b[0;34m]\u001b[0m\u001b[0;34m[\u001b[0m\u001b[0mi\u001b[0m\u001b[0;34m]\u001b[0m\u001b[0;34m)\u001b[0m\u001b[0;34m)\u001b[0m\u001b[0;34m)\u001b[0m\u001b[0;34m\u001b[0m\u001b[0;34m\u001b[0m\u001b[0m\n\u001b[0m\u001b[1;32m      6\u001b[0m     \u001b[0mplt\u001b[0m\u001b[0;34m.\u001b[0m\u001b[0mtext\u001b[0m\u001b[0;34m(\u001b[0m\u001b[0mspearmanr\u001b[0m\u001b[0;34m(\u001b[0m\u001b[0madt\u001b[0m\u001b[0;34m[\u001b[0m\u001b[0mcommon_adt\u001b[0m\u001b[0;34m[\u001b[0m\u001b[0mi\u001b[0m\u001b[0;34m]\u001b[0m\u001b[0;34m]\u001b[0m\u001b[0;34m,\u001b[0m \u001b[0mazi\u001b[0m\u001b[0;34m[\u001b[0m\u001b[0mcommon_adt\u001b[0m\u001b[0;34m[\u001b[0m\u001b[0mi\u001b[0m\u001b[0;34m]\u001b[0m\u001b[0;34m]\u001b[0m\u001b[0;34m)\u001b[0m\u001b[0;34m[\u001b[0m\u001b[0;36m0\u001b[0m\u001b[0;34m]\u001b[0m\u001b[0;34m,\u001b[0m \u001b[0;34m(\u001b[0m\u001b[0mabs\u001b[0m\u001b[0;34m(\u001b[0m\u001b[0mmodel2\u001b[0m\u001b[0;34m.\u001b[0m\u001b[0mcoef_\u001b[0m\u001b[0;34m[\u001b[0m\u001b[0;36m0\u001b[0m\u001b[0;34m]\u001b[0m\u001b[0;34m[\u001b[0m\u001b[0;34m-\u001b[0m\u001b[0mlen\u001b[0m\u001b[0;34m(\u001b[0m\u001b[0mcommon_adt\u001b[0m\u001b[0;34m)\u001b[0m\u001b[0;34m:\u001b[0m\u001b[0;34m]\u001b[0m\u001b[0;34m[\u001b[0m\u001b[0mi\u001b[0m\u001b[0;34m]\u001b[0m\u001b[0;34m)\u001b[0m\u001b[0;34m)\u001b[0m\u001b[0;34m,\u001b[0m \u001b[0ms\u001b[0m \u001b[0;34m=\u001b[0m \u001b[0mcommon_adt\u001b[0m\u001b[0;34m[\u001b[0m\u001b[0mi\u001b[0m\u001b[0;34m]\u001b[0m\u001b[0;34m)\u001b[0m\u001b[0;34m\u001b[0m\u001b[0;34m\u001b[0m\u001b[0m\n\u001b[1;32m      7\u001b[0m \u001b[0mplt\u001b[0m\u001b[0;34m.\u001b[0m\u001b[0mxlabel\u001b[0m\u001b[0;34m(\u001b[0m\u001b[0;34m\"Predictability\"\u001b[0m\u001b[0;34m)\u001b[0m\u001b[0;34m\u001b[0m\u001b[0;34m\u001b[0m\u001b[0m\n",
      "\u001b[0;31mNameError\u001b[0m: name 'model2' is not defined"
     ]
    },
    {
     "data": {
      "text/plain": [
       "<Figure size 252x216 with 0 Axes>"
      ]
     },
     "metadata": {},
     "output_type": "display_data"
    }
   ],
   "source": [
    "plt.figure(figsize = (3.5,3))\n",
    "for i in range(len(common_adt)):\n",
    "    #plt.scatter(spearmanr(adt[common_adt[i]], azi[common_adt[i]])[0], np.log(abs(model2.coef_[0][-len(common_adt):][i])))\n",
    "    #plt.text(spearmanr(adt[common_adt[i]], azi[common_adt[i]])[0], np.log(abs(model2.coef_[0][-len(common_adt):][i])), s = common_adt[i])\n",
    "    plt.scatter(spearmanr(adt[common_adt[i]], azi[common_adt[i]])[0], (abs(model2.coef_[0][-len(common_adt):][i])))\n",
    "    plt.text(spearmanr(adt[common_adt[i]], azi[common_adt[i]])[0], (abs(model2.coef_[0][-len(common_adt):][i])), s = common_adt[i])\n",
    "plt.xlabel(\"Predictability\")\n",
    "plt.ylabel(\"Coefficient\")"
   ]
  },
  {
   "cell_type": "code",
   "execution_count": 103,
   "id": "de707a75",
   "metadata": {},
   "outputs": [
    {
     "data": {
      "text/plain": [
       "Text(0, 0.5, 'Coefficient')"
      ]
     },
     "execution_count": 103,
     "metadata": {},
     "output_type": "execute_result"
    },
    {
     "data": {
      "image/png": "[encoded data removed]",
      "text/plain": [
       "<Figure size 252x216 with 1 Axes>"
      ]
     },
     "metadata": {
      "needs_background": "light"
     },
     "output_type": "display_data"
    }
   ],
   "source": [
    "plt.figure(figsize = (3.5,3))\n",
    "for i in range(len(common_adt)):\n",
    "    #plt.scatter(spearmanr(adt[common_adt[i]], ctp[common_adt[i]])[0], np.log(abs(model3.coef_[0][-len(common_adt):][i])))\n",
    "    plt.scatter(spearmanr(adt[common_adt[i]], ctp[common_adt[i]])[0], (abs(model3.coef_[0][-len(common_adt):][i])))\n",
    "    #plt.text(spearmanr(adt[common_adt[i]], ctp[common_adt[i]])[0], np.log(abs(model3.coef_[0][-len(common_adt):][i])), s = common_adt[i])\n",
    "    plt.text(spearmanr(adt[common_adt[i]], ctp[common_adt[i]])[0], (abs(model3.coef_[0][-len(common_adt):][i])), s = common_adt[i])\n",
    "plt.xlabel(\"Predictability\")\n",
    "plt.ylabel(\"log(Coefficient)\")\n",
    "plt.ylabel(\"Coefficient\")"
   ]
  },
  {
   "cell_type": "markdown",
   "id": "f50b614d",
   "metadata": {},
   "source": [
    "## Fine Labels"
   ]
  },
  {
   "cell_type": "code",
   "execution_count": 37,
   "id": "af7c2a45",
   "metadata": {},
   "outputs": [],
   "source": [
    "yfine_train, yfine_test = train_test_split(cell_fine_labels, test_size = 0.2, random_state = random_seed)\n",
    "perf = []"
   ]
  },
  {
   "cell_type": "code",
   "execution_count": 38,
   "id": "f2b3a1b8",
   "metadata": {},
   "outputs": [
    {
     "name": "stderr",
     "output_type": "stream",
     "text": [
      "/home/burhan/.conda/envs/clone/lib/python3.9/site-packages/sklearn/utils/validation.py:985: DataConversionWarning: A column-vector y was passed when a 1d array was expected. Please change the shape of y to (n_samples, ), for example using ravel().\n",
      "  y = column_or_1d(y, warn=True)\n"
     ]
    },
    {
     "ename": "KeyboardInterrupt",
     "evalue": "",
     "output_type": "error",
     "traceback": [
      "\u001b[0;31m---------------------------------------------------------------------------\u001b[0m",
      "\u001b[0;31mKeyboardInterrupt\u001b[0m                         Traceback (most recent call last)",
      "\u001b[0;32m/tmp/ipykernel_200873/2469856534.py\u001b[0m in \u001b[0;36m<module>\u001b[0;34m\u001b[0m\n\u001b[1;32m      1\u001b[0m \u001b[0;32mfrom\u001b[0m \u001b[0mtime\u001b[0m \u001b[0;32mimport\u001b[0m \u001b[0mtime\u001b[0m\u001b[0;34m\u001b[0m\u001b[0;34m\u001b[0m\u001b[0m\n\u001b[1;32m      2\u001b[0m \u001b[0mt1\u001b[0m \u001b[0;34m=\u001b[0m \u001b[0mtime\u001b[0m\u001b[0;34m(\u001b[0m\u001b[0;34m)\u001b[0m\u001b[0;34m\u001b[0m\u001b[0;34m\u001b[0m\u001b[0m\n\u001b[0;32m----> 3\u001b[0;31m \u001b[0mmodel1\u001b[0m \u001b[0;34m=\u001b[0m \u001b[0mLogisticRegression\u001b[0m\u001b[0;34m(\u001b[0m\u001b[0mmax_iter\u001b[0m \u001b[0;34m=\u001b[0m \u001b[0;36m1000\u001b[0m\u001b[0;34m)\u001b[0m\u001b[0;34m.\u001b[0m\u001b[0mfit\u001b[0m\u001b[0;34m(\u001b[0m\u001b[0mX1_train\u001b[0m\u001b[0;34m,\u001b[0m \u001b[0myfine_train\u001b[0m\u001b[0;34m)\u001b[0m\u001b[0;34m\u001b[0m\u001b[0;34m\u001b[0m\u001b[0m\n\u001b[0m\u001b[1;32m      4\u001b[0m \u001b[0my1_pred\u001b[0m \u001b[0;34m=\u001b[0m \u001b[0mmodel1\u001b[0m\u001b[0;34m.\u001b[0m\u001b[0mpredict\u001b[0m\u001b[0;34m(\u001b[0m\u001b[0mX1_test\u001b[0m\u001b[0;34m)\u001b[0m\u001b[0;34m\u001b[0m\u001b[0;34m\u001b[0m\u001b[0m\n\u001b[1;32m      5\u001b[0m \u001b[0mprint\u001b[0m\u001b[0;34m(\u001b[0m\u001b[0mtime\u001b[0m\u001b[0;34m(\u001b[0m\u001b[0;34m)\u001b[0m \u001b[0;34m-\u001b[0m \u001b[0mt1\u001b[0m\u001b[0;34m)\u001b[0m\u001b[0;34m\u001b[0m\u001b[0;34m\u001b[0m\u001b[0m\n",
      "\u001b[0;32m~/.conda/envs/clone/lib/python3.9/site-packages/sklearn/linear_model/_logistic.py\u001b[0m in \u001b[0;36mfit\u001b[0;34m(self, X, y, sample_weight)\u001b[0m\n\u001b[1;32m   1587\u001b[0m         \u001b[0;32melse\u001b[0m\u001b[0;34m:\u001b[0m\u001b[0;34m\u001b[0m\u001b[0;34m\u001b[0m\u001b[0m\n\u001b[1;32m   1588\u001b[0m             \u001b[0mprefer\u001b[0m \u001b[0;34m=\u001b[0m \u001b[0;34m\"processes\"\u001b[0m\u001b[0;34m\u001b[0m\u001b[0;34m\u001b[0m\u001b[0m\n\u001b[0;32m-> 1589\u001b[0;31m         fold_coefs_ = Parallel(\n\u001b[0m\u001b[1;32m   1590\u001b[0m             \u001b[0mn_jobs\u001b[0m\u001b[0;34m=\u001b[0m\u001b[0mself\u001b[0m\u001b[0;34m.\u001b[0m\u001b[0mn_jobs\u001b[0m\u001b[0;34m,\u001b[0m\u001b[0;34m\u001b[0m\u001b[0;34m\u001b[0m\u001b[0m\n\u001b[1;32m   1591\u001b[0m             \u001b[0mverbose\u001b[0m\u001b[0;34m=\u001b[0m\u001b[0mself\u001b[0m\u001b[0;34m.\u001b[0m\u001b[0mverbose\u001b[0m\u001b[0;34m,\u001b[0m\u001b[0;34m\u001b[0m\u001b[0;34m\u001b[0m\u001b[0m\n",
      "\u001b[0;32m~/.conda/envs/clone/lib/python3.9/site-packages/joblib/parallel.py\u001b[0m in \u001b[0;36m__call__\u001b[0;34m(self, iterable)\u001b[0m\n\u001b[1;32m   1041\u001b[0m             \u001b[0;31m# remaining jobs.\u001b[0m\u001b[0;34m\u001b[0m\u001b[0;34m\u001b[0m\u001b[0m\n\u001b[1;32m   1042\u001b[0m             \u001b[0mself\u001b[0m\u001b[0;34m.\u001b[0m\u001b[0m_iterating\u001b[0m \u001b[0;34m=\u001b[0m \u001b[0;32mFalse\u001b[0m\u001b[0;34m\u001b[0m\u001b[0;34m\u001b[0m\u001b[0m\n\u001b[0;32m-> 1043\u001b[0;31m             \u001b[0;32mif\u001b[0m \u001b[0mself\u001b[0m\u001b[0;34m.\u001b[0m\u001b[0mdispatch_one_batch\u001b[0m\u001b[0;34m(\u001b[0m\u001b[0miterator\u001b[0m\u001b[0;34m)\u001b[0m\u001b[0;34m:\u001b[0m\u001b[0;34m\u001b[0m\u001b[0;34m\u001b[0m\u001b[0m\n\u001b[0m\u001b[1;32m   1044\u001b[0m                 \u001b[0mself\u001b[0m\u001b[0;34m.\u001b[0m\u001b[0m_iterating\u001b[0m \u001b[0;34m=\u001b[0m \u001b[0mself\u001b[0m\u001b[0;34m.\u001b[0m\u001b[0m_original_iterator\u001b[0m \u001b[0;32mis\u001b[0m \u001b[0;32mnot\u001b[0m \u001b[0;32mNone\u001b[0m\u001b[0;34m\u001b[0m\u001b[0;34m\u001b[0m\u001b[0m\n\u001b[1;32m   1045\u001b[0m \u001b[0;34m\u001b[0m\u001b[0m\n",
      "\u001b[0;32m~/.conda/envs/clone/lib/python3.9/site-packages/joblib/parallel.py\u001b[0m in \u001b[0;36mdispatch_one_batch\u001b[0;34m(self, iterator)\u001b[0m\n\u001b[1;32m    859\u001b[0m                 \u001b[0;32mreturn\u001b[0m \u001b[0;32mFalse\u001b[0m\u001b[0;34m\u001b[0m\u001b[0;34m\u001b[0m\u001b[0m\n\u001b[1;32m    860\u001b[0m             \u001b[0;32melse\u001b[0m\u001b[0;34m:\u001b[0m\u001b[0;34m\u001b[0m\u001b[0;34m\u001b[0m\u001b[0m\n\u001b[0;32m--> 861\u001b[0;31m                 \u001b[0mself\u001b[0m\u001b[0;34m.\u001b[0m\u001b[0m_dispatch\u001b[0m\u001b[0;34m(\u001b[0m\u001b[0mtasks\u001b[0m\u001b[0;34m)\u001b[0m\u001b[0;34m\u001b[0m\u001b[0;34m\u001b[0m\u001b[0m\n\u001b[0m\u001b[1;32m    862\u001b[0m                 \u001b[0;32mreturn\u001b[0m \u001b[0;32mTrue\u001b[0m\u001b[0;34m\u001b[0m\u001b[0;34m\u001b[0m\u001b[0m\n\u001b[1;32m    863\u001b[0m \u001b[0;34m\u001b[0m\u001b[0m\n",
      "\u001b[0;32m~/.conda/envs/clone/lib/python3.9/site-packages/joblib/parallel.py\u001b[0m in \u001b[0;36m_dispatch\u001b[0;34m(self, batch)\u001b[0m\n\u001b[1;32m    777\u001b[0m         \u001b[0;32mwith\u001b[0m \u001b[0mself\u001b[0m\u001b[0;34m.\u001b[0m\u001b[0m_lock\u001b[0m\u001b[0;34m:\u001b[0m\u001b[0;34m\u001b[0m\u001b[0;34m\u001b[0m\u001b[0m\n\u001b[1;32m    778\u001b[0m             \u001b[0mjob_idx\u001b[0m \u001b[0;34m=\u001b[0m \u001b[0mlen\u001b[0m\u001b[0;34m(\u001b[0m\u001b[0mself\u001b[0m\u001b[0;34m.\u001b[0m\u001b[0m_jobs\u001b[0m\u001b[0;34m)\u001b[0m\u001b[0;34m\u001b[0m\u001b[0;34m\u001b[0m\u001b[0m\n\u001b[0;32m--> 779\u001b[0;31m             \u001b[0mjob\u001b[0m \u001b[0;34m=\u001b[0m \u001b[0mself\u001b[0m\u001b[0;34m.\u001b[0m\u001b[0m_backend\u001b[0m\u001b[0;34m.\u001b[0m\u001b[0mapply_async\u001b[0m\u001b[0;34m(\u001b[0m\u001b[0mbatch\u001b[0m\u001b[0;34m,\u001b[0m \u001b[0mcallback\u001b[0m\u001b[0;34m=\u001b[0m\u001b[0mcb\u001b[0m\u001b[0;34m)\u001b[0m\u001b[0;34m\u001b[0m\u001b[0;34m\u001b[0m\u001b[0m\n\u001b[0m\u001b[1;32m    780\u001b[0m             \u001b[0;31m# A job can complete so quickly than its callback is\u001b[0m\u001b[0;34m\u001b[0m\u001b[0;34m\u001b[0m\u001b[0m\n\u001b[1;32m    781\u001b[0m             \u001b[0;31m# called before we get here, causing self._jobs to\u001b[0m\u001b[0;34m\u001b[0m\u001b[0;34m\u001b[0m\u001b[0m\n",
      "\u001b[0;32m~/.conda/envs/clone/lib/python3.9/site-packages/joblib/_parallel_backends.py\u001b[0m in \u001b[0;36mapply_async\u001b[0;34m(self, func, callback)\u001b[0m\n\u001b[1;32m    206\u001b[0m     \u001b[0;32mdef\u001b[0m \u001b[0mapply_async\u001b[0m\u001b[0;34m(\u001b[0m\u001b[0mself\u001b[0m\u001b[0;34m,\u001b[0m \u001b[0mfunc\u001b[0m\u001b[0;34m,\u001b[0m \u001b[0mcallback\u001b[0m\u001b[0;34m=\u001b[0m\u001b[0;32mNone\u001b[0m\u001b[0;34m)\u001b[0m\u001b[0;34m:\u001b[0m\u001b[0;34m\u001b[0m\u001b[0;34m\u001b[0m\u001b[0m\n\u001b[1;32m    207\u001b[0m         \u001b[0;34m\"\"\"Schedule a func to be run\"\"\"\u001b[0m\u001b[0;34m\u001b[0m\u001b[0;34m\u001b[0m\u001b[0m\n\u001b[0;32m--> 208\u001b[0;31m         \u001b[0mresult\u001b[0m \u001b[0;34m=\u001b[0m \u001b[0mImmediateResult\u001b[0m\u001b[0;34m(\u001b[0m\u001b[0mfunc\u001b[0m\u001b[0;34m)\u001b[0m\u001b[0;34m\u001b[0m\u001b[0;34m\u001b[0m\u001b[0m\n\u001b[0m\u001b[1;32m    209\u001b[0m         \u001b[0;32mif\u001b[0m \u001b[0mcallback\u001b[0m\u001b[0;34m:\u001b[0m\u001b[0;34m\u001b[0m\u001b[0;34m\u001b[0m\u001b[0m\n\u001b[1;32m    210\u001b[0m             \u001b[0mcallback\u001b[0m\u001b[0;34m(\u001b[0m\u001b[0mresult\u001b[0m\u001b[0;34m)\u001b[0m\u001b[0;34m\u001b[0m\u001b[0;34m\u001b[0m\u001b[0m\n",
      "\u001b[0;32m~/.conda/envs/clone/lib/python3.9/site-packages/joblib/_parallel_backends.py\u001b[0m in \u001b[0;36m__init__\u001b[0;34m(self, batch)\u001b[0m\n\u001b[1;32m    570\u001b[0m         \u001b[0;31m# Don't delay the application, to avoid keeping the input\u001b[0m\u001b[0;34m\u001b[0m\u001b[0;34m\u001b[0m\u001b[0m\n\u001b[1;32m    571\u001b[0m         \u001b[0;31m# arguments in memory\u001b[0m\u001b[0;34m\u001b[0m\u001b[0;34m\u001b[0m\u001b[0m\n\u001b[0;32m--> 572\u001b[0;31m         \u001b[0mself\u001b[0m\u001b[0;34m.\u001b[0m\u001b[0mresults\u001b[0m \u001b[0;34m=\u001b[0m \u001b[0mbatch\u001b[0m\u001b[0;34m(\u001b[0m\u001b[0;34m)\u001b[0m\u001b[0;34m\u001b[0m\u001b[0;34m\u001b[0m\u001b[0m\n\u001b[0m\u001b[1;32m    573\u001b[0m \u001b[0;34m\u001b[0m\u001b[0m\n\u001b[1;32m    574\u001b[0m     \u001b[0;32mdef\u001b[0m \u001b[0mget\u001b[0m\u001b[0;34m(\u001b[0m\u001b[0mself\u001b[0m\u001b[0;34m)\u001b[0m\u001b[0;34m:\u001b[0m\u001b[0;34m\u001b[0m\u001b[0;34m\u001b[0m\u001b[0m\n",
      "\u001b[0;32m~/.conda/envs/clone/lib/python3.9/site-packages/joblib/parallel.py\u001b[0m in \u001b[0;36m__call__\u001b[0;34m(self)\u001b[0m\n\u001b[1;32m    260\u001b[0m         \u001b[0;31m# change the default number of processes to -1\u001b[0m\u001b[0;34m\u001b[0m\u001b[0;34m\u001b[0m\u001b[0m\n\u001b[1;32m    261\u001b[0m         \u001b[0;32mwith\u001b[0m \u001b[0mparallel_backend\u001b[0m\u001b[0;34m(\u001b[0m\u001b[0mself\u001b[0m\u001b[0;34m.\u001b[0m\u001b[0m_backend\u001b[0m\u001b[0;34m,\u001b[0m \u001b[0mn_jobs\u001b[0m\u001b[0;34m=\u001b[0m\u001b[0mself\u001b[0m\u001b[0;34m.\u001b[0m\u001b[0m_n_jobs\u001b[0m\u001b[0;34m)\u001b[0m\u001b[0;34m:\u001b[0m\u001b[0;34m\u001b[0m\u001b[0;34m\u001b[0m\u001b[0m\n\u001b[0;32m--> 262\u001b[0;31m             return [func(*args, **kwargs)\n\u001b[0m\u001b[1;32m    263\u001b[0m                     for func, args, kwargs in self.items]\n\u001b[1;32m    264\u001b[0m \u001b[0;34m\u001b[0m\u001b[0m\n",
      "\u001b[0;32m~/.conda/envs/clone/lib/python3.9/site-packages/joblib/parallel.py\u001b[0m in \u001b[0;36m<listcomp>\u001b[0;34m(.0)\u001b[0m\n\u001b[1;32m    260\u001b[0m         \u001b[0;31m# change the default number of processes to -1\u001b[0m\u001b[0;34m\u001b[0m\u001b[0;34m\u001b[0m\u001b[0m\n\u001b[1;32m    261\u001b[0m         \u001b[0;32mwith\u001b[0m \u001b[0mparallel_backend\u001b[0m\u001b[0;34m(\u001b[0m\u001b[0mself\u001b[0m\u001b[0;34m.\u001b[0m\u001b[0m_backend\u001b[0m\u001b[0;34m,\u001b[0m \u001b[0mn_jobs\u001b[0m\u001b[0;34m=\u001b[0m\u001b[0mself\u001b[0m\u001b[0;34m.\u001b[0m\u001b[0m_n_jobs\u001b[0m\u001b[0;34m)\u001b[0m\u001b[0;34m:\u001b[0m\u001b[0;34m\u001b[0m\u001b[0;34m\u001b[0m\u001b[0m\n\u001b[0;32m--> 262\u001b[0;31m             return [func(*args, **kwargs)\n\u001b[0m\u001b[1;32m    263\u001b[0m                     for func, args, kwargs in self.items]\n\u001b[1;32m    264\u001b[0m \u001b[0;34m\u001b[0m\u001b[0m\n",
      "\u001b[0;32m~/.conda/envs/clone/lib/python3.9/site-packages/sklearn/utils/fixes.py\u001b[0m in \u001b[0;36m__call__\u001b[0;34m(self, *args, **kwargs)\u001b[0m\n\u001b[1;32m    209\u001b[0m     \u001b[0;32mdef\u001b[0m \u001b[0m__call__\u001b[0m\u001b[0;34m(\u001b[0m\u001b[0mself\u001b[0m\u001b[0;34m,\u001b[0m \u001b[0;34m*\u001b[0m\u001b[0margs\u001b[0m\u001b[0;34m,\u001b[0m \u001b[0;34m**\u001b[0m\u001b[0mkwargs\u001b[0m\u001b[0;34m)\u001b[0m\u001b[0;34m:\u001b[0m\u001b[0;34m\u001b[0m\u001b[0;34m\u001b[0m\u001b[0m\n\u001b[1;32m    210\u001b[0m         \u001b[0;32mwith\u001b[0m \u001b[0mconfig_context\u001b[0m\u001b[0;34m(\u001b[0m\u001b[0;34m**\u001b[0m\u001b[0mself\u001b[0m\u001b[0;34m.\u001b[0m\u001b[0mconfig\u001b[0m\u001b[0;34m)\u001b[0m\u001b[0;34m:\u001b[0m\u001b[0;34m\u001b[0m\u001b[0;34m\u001b[0m\u001b[0m\n\u001b[0;32m--> 211\u001b[0;31m             \u001b[0;32mreturn\u001b[0m \u001b[0mself\u001b[0m\u001b[0;34m.\u001b[0m\u001b[0mfunction\u001b[0m\u001b[0;34m(\u001b[0m\u001b[0;34m*\u001b[0m\u001b[0margs\u001b[0m\u001b[0;34m,\u001b[0m \u001b[0;34m**\u001b[0m\u001b[0mkwargs\u001b[0m\u001b[0;34m)\u001b[0m\u001b[0;34m\u001b[0m\u001b[0;34m\u001b[0m\u001b[0m\n\u001b[0m\u001b[1;32m    212\u001b[0m \u001b[0;34m\u001b[0m\u001b[0m\n\u001b[1;32m    213\u001b[0m \u001b[0;34m\u001b[0m\u001b[0m\n",
      "\u001b[0;32m~/.conda/envs/clone/lib/python3.9/site-packages/sklearn/linear_model/_logistic.py\u001b[0m in \u001b[0;36m_logistic_regression_path\u001b[0;34m(X, y, pos_class, Cs, fit_intercept, max_iter, tol, verbose, solver, coef, class_weight, dual, penalty, intercept_scaling, multi_class, random_state, check_input, max_squared_sum, sample_weight, l1_ratio)\u001b[0m\n\u001b[1;32m    804\u001b[0m                 \u001b[0mnp\u001b[0m\u001b[0;34m.\u001b[0m\u001b[0msearchsorted\u001b[0m\u001b[0;34m(\u001b[0m\u001b[0mnp\u001b[0m\u001b[0;34m.\u001b[0m\u001b[0marray\u001b[0m\u001b[0;34m(\u001b[0m\u001b[0;34m[\u001b[0m\u001b[0;36m0\u001b[0m\u001b[0;34m,\u001b[0m \u001b[0;36m1\u001b[0m\u001b[0;34m,\u001b[0m \u001b[0;36m2\u001b[0m\u001b[0;34m,\u001b[0m \u001b[0;36m3\u001b[0m\u001b[0;34m]\u001b[0m\u001b[0;34m)\u001b[0m\u001b[0;34m,\u001b[0m \u001b[0mverbose\u001b[0m\u001b[0;34m)\u001b[0m\u001b[0;34m\u001b[0m\u001b[0;34m\u001b[0m\u001b[0m\n\u001b[1;32m    805\u001b[0m             ]\n\u001b[0;32m--> 806\u001b[0;31m             opt_res = optimize.minimize(\n\u001b[0m\u001b[1;32m    807\u001b[0m                 \u001b[0mfunc\u001b[0m\u001b[0;34m,\u001b[0m\u001b[0;34m\u001b[0m\u001b[0;34m\u001b[0m\u001b[0m\n\u001b[1;32m    808\u001b[0m                 \u001b[0mw0\u001b[0m\u001b[0;34m,\u001b[0m\u001b[0;34m\u001b[0m\u001b[0;34m\u001b[0m\u001b[0m\n",
      "\u001b[0;32m~/.conda/envs/clone/lib/python3.9/site-packages/scipy/optimize/_minimize.py\u001b[0m in \u001b[0;36mminimize\u001b[0;34m(fun, x0, args, method, jac, hess, hessp, bounds, constraints, tol, callback, options)\u001b[0m\n\u001b[1;32m    621\u001b[0m                                   **options)\n\u001b[1;32m    622\u001b[0m     \u001b[0;32melif\u001b[0m \u001b[0mmeth\u001b[0m \u001b[0;34m==\u001b[0m \u001b[0;34m'l-bfgs-b'\u001b[0m\u001b[0;34m:\u001b[0m\u001b[0;34m\u001b[0m\u001b[0;34m\u001b[0m\u001b[0m\n\u001b[0;32m--> 623\u001b[0;31m         return _minimize_lbfgsb(fun, x0, args, jac, bounds,\n\u001b[0m\u001b[1;32m    624\u001b[0m                                 callback=callback, **options)\n\u001b[1;32m    625\u001b[0m     \u001b[0;32melif\u001b[0m \u001b[0mmeth\u001b[0m \u001b[0;34m==\u001b[0m \u001b[0;34m'tnc'\u001b[0m\u001b[0;34m:\u001b[0m\u001b[0;34m\u001b[0m\u001b[0;34m\u001b[0m\u001b[0m\n",
      "\u001b[0;32m~/.conda/envs/clone/lib/python3.9/site-packages/scipy/optimize/lbfgsb.py\u001b[0m in \u001b[0;36m_minimize_lbfgsb\u001b[0;34m(fun, x0, args, jac, bounds, disp, maxcor, ftol, gtol, eps, maxfun, maxiter, iprint, callback, maxls, finite_diff_rel_step, **unknown_options)\u001b[0m\n\u001b[1;32m    358\u001b[0m             \u001b[0;31m# until the completion of the current minimization iteration.\u001b[0m\u001b[0;34m\u001b[0m\u001b[0;34m\u001b[0m\u001b[0m\n\u001b[1;32m    359\u001b[0m             \u001b[0;31m# Overwrite f and g:\u001b[0m\u001b[0;34m\u001b[0m\u001b[0;34m\u001b[0m\u001b[0m\n\u001b[0;32m--> 360\u001b[0;31m             \u001b[0mf\u001b[0m\u001b[0;34m,\u001b[0m \u001b[0mg\u001b[0m \u001b[0;34m=\u001b[0m \u001b[0mfunc_and_grad\u001b[0m\u001b[0;34m(\u001b[0m\u001b[0mx\u001b[0m\u001b[0;34m)\u001b[0m\u001b[0;34m\u001b[0m\u001b[0;34m\u001b[0m\u001b[0m\n\u001b[0m\u001b[1;32m    361\u001b[0m         \u001b[0;32melif\u001b[0m \u001b[0mtask_str\u001b[0m\u001b[0;34m.\u001b[0m\u001b[0mstartswith\u001b[0m\u001b[0;34m(\u001b[0m\u001b[0;34mb'NEW_X'\u001b[0m\u001b[0;34m)\u001b[0m\u001b[0;34m:\u001b[0m\u001b[0;34m\u001b[0m\u001b[0;34m\u001b[0m\u001b[0m\n\u001b[1;32m    362\u001b[0m             \u001b[0;31m# new iteration\u001b[0m\u001b[0;34m\u001b[0m\u001b[0;34m\u001b[0m\u001b[0m\n",
      "\u001b[0;32m~/.conda/envs/clone/lib/python3.9/site-packages/scipy/optimize/_differentiable_functions.py\u001b[0m in \u001b[0;36mfun_and_grad\u001b[0;34m(self, x)\u001b[0m\n\u001b[1;32m    265\u001b[0m         \u001b[0;32mif\u001b[0m \u001b[0;32mnot\u001b[0m \u001b[0mnp\u001b[0m\u001b[0;34m.\u001b[0m\u001b[0marray_equal\u001b[0m\u001b[0;34m(\u001b[0m\u001b[0mx\u001b[0m\u001b[0;34m,\u001b[0m \u001b[0mself\u001b[0m\u001b[0;34m.\u001b[0m\u001b[0mx\u001b[0m\u001b[0;34m)\u001b[0m\u001b[0;34m:\u001b[0m\u001b[0;34m\u001b[0m\u001b[0;34m\u001b[0m\u001b[0m\n\u001b[1;32m    266\u001b[0m             \u001b[0mself\u001b[0m\u001b[0;34m.\u001b[0m\u001b[0m_update_x_impl\u001b[0m\u001b[0;34m(\u001b[0m\u001b[0mx\u001b[0m\u001b[0;34m)\u001b[0m\u001b[0;34m\u001b[0m\u001b[0;34m\u001b[0m\u001b[0m\n\u001b[0;32m--> 267\u001b[0;31m         \u001b[0mself\u001b[0m\u001b[0;34m.\u001b[0m\u001b[0m_update_fun\u001b[0m\u001b[0;34m(\u001b[0m\u001b[0;34m)\u001b[0m\u001b[0;34m\u001b[0m\u001b[0;34m\u001b[0m\u001b[0m\n\u001b[0m\u001b[1;32m    268\u001b[0m         \u001b[0mself\u001b[0m\u001b[0;34m.\u001b[0m\u001b[0m_update_grad\u001b[0m\u001b[0;34m(\u001b[0m\u001b[0;34m)\u001b[0m\u001b[0;34m\u001b[0m\u001b[0;34m\u001b[0m\u001b[0m\n\u001b[1;32m    269\u001b[0m         \u001b[0;32mreturn\u001b[0m \u001b[0mself\u001b[0m\u001b[0;34m.\u001b[0m\u001b[0mf\u001b[0m\u001b[0;34m,\u001b[0m \u001b[0mself\u001b[0m\u001b[0;34m.\u001b[0m\u001b[0mg\u001b[0m\u001b[0;34m\u001b[0m\u001b[0;34m\u001b[0m\u001b[0m\n",
      "\u001b[0;32m~/.conda/envs/clone/lib/python3.9/site-packages/scipy/optimize/_differentiable_functions.py\u001b[0m in \u001b[0;36m_update_fun\u001b[0;34m(self)\u001b[0m\n\u001b[1;32m    231\u001b[0m     \u001b[0;32mdef\u001b[0m \u001b[0m_update_fun\u001b[0m\u001b[0;34m(\u001b[0m\u001b[0mself\u001b[0m\u001b[0;34m)\u001b[0m\u001b[0;34m:\u001b[0m\u001b[0;34m\u001b[0m\u001b[0;34m\u001b[0m\u001b[0m\n\u001b[1;32m    232\u001b[0m         \u001b[0;32mif\u001b[0m \u001b[0;32mnot\u001b[0m \u001b[0mself\u001b[0m\u001b[0;34m.\u001b[0m\u001b[0mf_updated\u001b[0m\u001b[0;34m:\u001b[0m\u001b[0;34m\u001b[0m\u001b[0;34m\u001b[0m\u001b[0m\n\u001b[0;32m--> 233\u001b[0;31m             \u001b[0mself\u001b[0m\u001b[0;34m.\u001b[0m\u001b[0m_update_fun_impl\u001b[0m\u001b[0;34m(\u001b[0m\u001b[0;34m)\u001b[0m\u001b[0;34m\u001b[0m\u001b[0;34m\u001b[0m\u001b[0m\n\u001b[0m\u001b[1;32m    234\u001b[0m             \u001b[0mself\u001b[0m\u001b[0;34m.\u001b[0m\u001b[0mf_updated\u001b[0m \u001b[0;34m=\u001b[0m \u001b[0;32mTrue\u001b[0m\u001b[0;34m\u001b[0m\u001b[0;34m\u001b[0m\u001b[0m\n\u001b[1;32m    235\u001b[0m \u001b[0;34m\u001b[0m\u001b[0m\n",
      "\u001b[0;32m~/.conda/envs/clone/lib/python3.9/site-packages/scipy/optimize/_differentiable_functions.py\u001b[0m in \u001b[0;36mupdate_fun\u001b[0;34m()\u001b[0m\n\u001b[1;32m    135\u001b[0m \u001b[0;34m\u001b[0m\u001b[0m\n\u001b[1;32m    136\u001b[0m         \u001b[0;32mdef\u001b[0m \u001b[0mupdate_fun\u001b[0m\u001b[0;34m(\u001b[0m\u001b[0;34m)\u001b[0m\u001b[0;34m:\u001b[0m\u001b[0;34m\u001b[0m\u001b[0;34m\u001b[0m\u001b[0m\n\u001b[0;32m--> 137\u001b[0;31m             \u001b[0mself\u001b[0m\u001b[0;34m.\u001b[0m\u001b[0mf\u001b[0m \u001b[0;34m=\u001b[0m \u001b[0mfun_wrapped\u001b[0m\u001b[0;34m(\u001b[0m\u001b[0mself\u001b[0m\u001b[0;34m.\u001b[0m\u001b[0mx\u001b[0m\u001b[0;34m)\u001b[0m\u001b[0;34m\u001b[0m\u001b[0;34m\u001b[0m\u001b[0m\n\u001b[0m\u001b[1;32m    138\u001b[0m \u001b[0;34m\u001b[0m\u001b[0m\n\u001b[1;32m    139\u001b[0m         \u001b[0mself\u001b[0m\u001b[0;34m.\u001b[0m\u001b[0m_update_fun_impl\u001b[0m \u001b[0;34m=\u001b[0m \u001b[0mupdate_fun\u001b[0m\u001b[0;34m\u001b[0m\u001b[0;34m\u001b[0m\u001b[0m\n",
      "\u001b[0;32m~/.conda/envs/clone/lib/python3.9/site-packages/scipy/optimize/_differentiable_functions.py\u001b[0m in \u001b[0;36mfun_wrapped\u001b[0;34m(x)\u001b[0m\n\u001b[1;32m    132\u001b[0m             \u001b[0;31m# Overwriting results in undefined behaviour because\u001b[0m\u001b[0;34m\u001b[0m\u001b[0;34m\u001b[0m\u001b[0m\n\u001b[1;32m    133\u001b[0m             \u001b[0;31m# fun(self.x) will change self.x, with the two no longer linked.\u001b[0m\u001b[0;34m\u001b[0m\u001b[0;34m\u001b[0m\u001b[0m\n\u001b[0;32m--> 134\u001b[0;31m             \u001b[0;32mreturn\u001b[0m \u001b[0mfun\u001b[0m\u001b[0;34m(\u001b[0m\u001b[0mnp\u001b[0m\u001b[0;34m.\u001b[0m\u001b[0mcopy\u001b[0m\u001b[0;34m(\u001b[0m\u001b[0mx\u001b[0m\u001b[0;34m)\u001b[0m\u001b[0;34m,\u001b[0m \u001b[0;34m*\u001b[0m\u001b[0margs\u001b[0m\u001b[0;34m)\u001b[0m\u001b[0;34m\u001b[0m\u001b[0;34m\u001b[0m\u001b[0m\n\u001b[0m\u001b[1;32m    135\u001b[0m \u001b[0;34m\u001b[0m\u001b[0m\n\u001b[1;32m    136\u001b[0m         \u001b[0;32mdef\u001b[0m \u001b[0mupdate_fun\u001b[0m\u001b[0;34m(\u001b[0m\u001b[0;34m)\u001b[0m\u001b[0;34m:\u001b[0m\u001b[0;34m\u001b[0m\u001b[0;34m\u001b[0m\u001b[0m\n",
      "\u001b[0;32m~/.conda/envs/clone/lib/python3.9/site-packages/scipy/optimize/optimize.py\u001b[0m in \u001b[0;36m__call__\u001b[0;34m(self, x, *args)\u001b[0m\n\u001b[1;32m     72\u001b[0m     \u001b[0;32mdef\u001b[0m \u001b[0m__call__\u001b[0m\u001b[0;34m(\u001b[0m\u001b[0mself\u001b[0m\u001b[0;34m,\u001b[0m \u001b[0mx\u001b[0m\u001b[0;34m,\u001b[0m \u001b[0;34m*\u001b[0m\u001b[0margs\u001b[0m\u001b[0;34m)\u001b[0m\u001b[0;34m:\u001b[0m\u001b[0;34m\u001b[0m\u001b[0;34m\u001b[0m\u001b[0m\n\u001b[1;32m     73\u001b[0m         \u001b[0;34m\"\"\" returns the the function value \"\"\"\u001b[0m\u001b[0;34m\u001b[0m\u001b[0;34m\u001b[0m\u001b[0m\n\u001b[0;32m---> 74\u001b[0;31m         \u001b[0mself\u001b[0m\u001b[0;34m.\u001b[0m\u001b[0m_compute_if_needed\u001b[0m\u001b[0;34m(\u001b[0m\u001b[0mx\u001b[0m\u001b[0;34m,\u001b[0m \u001b[0;34m*\u001b[0m\u001b[0margs\u001b[0m\u001b[0;34m)\u001b[0m\u001b[0;34m\u001b[0m\u001b[0;34m\u001b[0m\u001b[0m\n\u001b[0m\u001b[1;32m     75\u001b[0m         \u001b[0;32mreturn\u001b[0m \u001b[0mself\u001b[0m\u001b[0;34m.\u001b[0m\u001b[0m_value\u001b[0m\u001b[0;34m\u001b[0m\u001b[0;34m\u001b[0m\u001b[0m\n\u001b[1;32m     76\u001b[0m \u001b[0;34m\u001b[0m\u001b[0m\n",
      "\u001b[0;32m~/.conda/envs/clone/lib/python3.9/site-packages/scipy/optimize/optimize.py\u001b[0m in \u001b[0;36m_compute_if_needed\u001b[0;34m(self, x, *args)\u001b[0m\n\u001b[1;32m     66\u001b[0m         \u001b[0;32mif\u001b[0m \u001b[0;32mnot\u001b[0m \u001b[0mnp\u001b[0m\u001b[0;34m.\u001b[0m\u001b[0mall\u001b[0m\u001b[0;34m(\u001b[0m\u001b[0mx\u001b[0m \u001b[0;34m==\u001b[0m \u001b[0mself\u001b[0m\u001b[0;34m.\u001b[0m\u001b[0mx\u001b[0m\u001b[0;34m)\u001b[0m \u001b[0;32mor\u001b[0m \u001b[0mself\u001b[0m\u001b[0;34m.\u001b[0m\u001b[0m_value\u001b[0m \u001b[0;32mis\u001b[0m \u001b[0;32mNone\u001b[0m \u001b[0;32mor\u001b[0m \u001b[0mself\u001b[0m\u001b[0;34m.\u001b[0m\u001b[0mjac\u001b[0m \u001b[0;32mis\u001b[0m \u001b[0;32mNone\u001b[0m\u001b[0;34m:\u001b[0m\u001b[0;34m\u001b[0m\u001b[0;34m\u001b[0m\u001b[0m\n\u001b[1;32m     67\u001b[0m             \u001b[0mself\u001b[0m\u001b[0;34m.\u001b[0m\u001b[0mx\u001b[0m \u001b[0;34m=\u001b[0m \u001b[0mnp\u001b[0m\u001b[0;34m.\u001b[0m\u001b[0masarray\u001b[0m\u001b[0;34m(\u001b[0m\u001b[0mx\u001b[0m\u001b[0;34m)\u001b[0m\u001b[0;34m.\u001b[0m\u001b[0mcopy\u001b[0m\u001b[0;34m(\u001b[0m\u001b[0;34m)\u001b[0m\u001b[0;34m\u001b[0m\u001b[0;34m\u001b[0m\u001b[0m\n\u001b[0;32m---> 68\u001b[0;31m             \u001b[0mfg\u001b[0m \u001b[0;34m=\u001b[0m \u001b[0mself\u001b[0m\u001b[0;34m.\u001b[0m\u001b[0mfun\u001b[0m\u001b[0;34m(\u001b[0m\u001b[0mx\u001b[0m\u001b[0;34m,\u001b[0m \u001b[0;34m*\u001b[0m\u001b[0margs\u001b[0m\u001b[0;34m)\u001b[0m\u001b[0;34m\u001b[0m\u001b[0;34m\u001b[0m\u001b[0m\n\u001b[0m\u001b[1;32m     69\u001b[0m             \u001b[0mself\u001b[0m\u001b[0;34m.\u001b[0m\u001b[0mjac\u001b[0m \u001b[0;34m=\u001b[0m \u001b[0mfg\u001b[0m\u001b[0;34m[\u001b[0m\u001b[0;36m1\u001b[0m\u001b[0;34m]\u001b[0m\u001b[0;34m\u001b[0m\u001b[0;34m\u001b[0m\u001b[0m\n\u001b[1;32m     70\u001b[0m             \u001b[0mself\u001b[0m\u001b[0;34m.\u001b[0m\u001b[0m_value\u001b[0m \u001b[0;34m=\u001b[0m \u001b[0mfg\u001b[0m\u001b[0;34m[\u001b[0m\u001b[0;36m0\u001b[0m\u001b[0;34m]\u001b[0m\u001b[0;34m\u001b[0m\u001b[0;34m\u001b[0m\u001b[0m\n",
      "\u001b[0;32m~/.conda/envs/clone/lib/python3.9/site-packages/sklearn/linear_model/_logistic.py\u001b[0m in \u001b[0;36mfunc\u001b[0;34m(x, *args)\u001b[0m\n\u001b[1;32m    772\u001b[0m \u001b[0;34m\u001b[0m\u001b[0m\n\u001b[1;32m    773\u001b[0m             \u001b[0;32mdef\u001b[0m \u001b[0mfunc\u001b[0m\u001b[0;34m(\u001b[0m\u001b[0mx\u001b[0m\u001b[0;34m,\u001b[0m \u001b[0;34m*\u001b[0m\u001b[0margs\u001b[0m\u001b[0;34m)\u001b[0m\u001b[0;34m:\u001b[0m\u001b[0;34m\u001b[0m\u001b[0;34m\u001b[0m\u001b[0m\n\u001b[0;32m--> 774\u001b[0;31m                 \u001b[0;32mreturn\u001b[0m \u001b[0m_multinomial_loss_grad\u001b[0m\u001b[0;34m(\u001b[0m\u001b[0mx\u001b[0m\u001b[0;34m,\u001b[0m \u001b[0;34m*\u001b[0m\u001b[0margs\u001b[0m\u001b[0;34m)\u001b[0m\u001b[0;34m[\u001b[0m\u001b[0;36m0\u001b[0m\u001b[0;34m:\u001b[0m\u001b[0;36m2\u001b[0m\u001b[0;34m]\u001b[0m\u001b[0;34m\u001b[0m\u001b[0;34m\u001b[0m\u001b[0m\n\u001b[0m\u001b[1;32m    775\u001b[0m \u001b[0;34m\u001b[0m\u001b[0m\n\u001b[1;32m    776\u001b[0m         \u001b[0;32melif\u001b[0m \u001b[0msolver\u001b[0m \u001b[0;34m==\u001b[0m \u001b[0;34m\"newton-cg\"\u001b[0m\u001b[0;34m:\u001b[0m\u001b[0;34m\u001b[0m\u001b[0;34m\u001b[0m\u001b[0m\n",
      "\u001b[0;32m~/.conda/envs/clone/lib/python3.9/site-packages/sklearn/linear_model/_logistic.py\u001b[0m in \u001b[0;36m_multinomial_loss_grad\u001b[0;34m(w, X, Y, alpha, sample_weight)\u001b[0m\n\u001b[1;32m    349\u001b[0m     \u001b[0msample_weight\u001b[0m \u001b[0;34m=\u001b[0m \u001b[0msample_weight\u001b[0m\u001b[0;34m[\u001b[0m\u001b[0;34m:\u001b[0m\u001b[0;34m,\u001b[0m \u001b[0mnp\u001b[0m\u001b[0;34m.\u001b[0m\u001b[0mnewaxis\u001b[0m\u001b[0;34m]\u001b[0m\u001b[0;34m\u001b[0m\u001b[0;34m\u001b[0m\u001b[0m\n\u001b[1;32m    350\u001b[0m     \u001b[0mdiff\u001b[0m \u001b[0;34m=\u001b[0m \u001b[0msample_weight\u001b[0m \u001b[0;34m*\u001b[0m \u001b[0;34m(\u001b[0m\u001b[0mp\u001b[0m \u001b[0;34m-\u001b[0m \u001b[0mY\u001b[0m\u001b[0;34m)\u001b[0m\u001b[0;34m\u001b[0m\u001b[0;34m\u001b[0m\u001b[0m\n\u001b[0;32m--> 351\u001b[0;31m     \u001b[0mgrad\u001b[0m\u001b[0;34m[\u001b[0m\u001b[0;34m:\u001b[0m\u001b[0;34m,\u001b[0m \u001b[0;34m:\u001b[0m\u001b[0mn_features\u001b[0m\u001b[0;34m]\u001b[0m \u001b[0;34m=\u001b[0m \u001b[0msafe_sparse_dot\u001b[0m\u001b[0;34m(\u001b[0m\u001b[0mdiff\u001b[0m\u001b[0;34m.\u001b[0m\u001b[0mT\u001b[0m\u001b[0;34m,\u001b[0m \u001b[0mX\u001b[0m\u001b[0;34m)\u001b[0m\u001b[0;34m\u001b[0m\u001b[0;34m\u001b[0m\u001b[0m\n\u001b[0m\u001b[1;32m    352\u001b[0m     \u001b[0mgrad\u001b[0m\u001b[0;34m[\u001b[0m\u001b[0;34m:\u001b[0m\u001b[0;34m,\u001b[0m \u001b[0;34m:\u001b[0m\u001b[0mn_features\u001b[0m\u001b[0;34m]\u001b[0m \u001b[0;34m+=\u001b[0m \u001b[0malpha\u001b[0m \u001b[0;34m*\u001b[0m \u001b[0mw\u001b[0m\u001b[0;34m\u001b[0m\u001b[0;34m\u001b[0m\u001b[0m\n\u001b[1;32m    353\u001b[0m     \u001b[0;32mif\u001b[0m \u001b[0mfit_intercept\u001b[0m\u001b[0;34m:\u001b[0m\u001b[0;34m\u001b[0m\u001b[0;34m\u001b[0m\u001b[0m\n",
      "\u001b[0;32m~/.conda/envs/clone/lib/python3.9/site-packages/sklearn/utils/extmath.py\u001b[0m in \u001b[0;36msafe_sparse_dot\u001b[0;34m(a, b, dense_output)\u001b[0m\n\u001b[1;32m    151\u001b[0m             \u001b[0mret\u001b[0m \u001b[0;34m=\u001b[0m \u001b[0mnp\u001b[0m\u001b[0;34m.\u001b[0m\u001b[0mdot\u001b[0m\u001b[0;34m(\u001b[0m\u001b[0ma\u001b[0m\u001b[0;34m,\u001b[0m \u001b[0mb\u001b[0m\u001b[0;34m)\u001b[0m\u001b[0;34m\u001b[0m\u001b[0;34m\u001b[0m\u001b[0m\n\u001b[1;32m    152\u001b[0m     \u001b[0;32melse\u001b[0m\u001b[0;34m:\u001b[0m\u001b[0;34m\u001b[0m\u001b[0;34m\u001b[0m\u001b[0m\n\u001b[0;32m--> 153\u001b[0;31m         \u001b[0mret\u001b[0m \u001b[0;34m=\u001b[0m \u001b[0ma\u001b[0m \u001b[0;34m@\u001b[0m \u001b[0mb\u001b[0m\u001b[0;34m\u001b[0m\u001b[0;34m\u001b[0m\u001b[0m\n\u001b[0m\u001b[1;32m    154\u001b[0m \u001b[0;34m\u001b[0m\u001b[0m\n\u001b[1;32m    155\u001b[0m     if (\n",
      "\u001b[0;31mKeyboardInterrupt\u001b[0m: "
     ]
    }
   ],
   "source": [
    "from time import time\n",
    "t1 = time()\n",
    "model1 = LogisticRegression(max_iter = 1000).fit(X1_train, yfine_train)\n",
    "y1_pred = model1.predict(X1_test)\n",
    "print(time() - t1)"
   ]
  },
  {
   "cell_type": "code",
   "execution_count": 134,
   "id": "41780d8b",
   "metadata": {},
   "outputs": [
    {
     "name": "stdout",
     "output_type": "stream",
     "text": [
      "Accuracy:  0.8763636363636363\n",
      "F1score (micro):  0.8763636363636363\n",
      "F1score (macro):  0.6285283427354638\n",
      "MCC:  0.8371459744747187\n"
     ]
    }
   ],
   "source": [
    "print(\"Accuracy: \", accuracy_score(yfine_test, y1_pred))\n",
    "print(\"F1score (micro): \", f1_score(yfine_test, y1_pred, average = \"micro\"))\n",
    "print(\"F1score (macro): \", f1_score(yfine_test, y1_pred, average = \"macro\"))\n",
    "print(\"MCC: \", matthews_corrcoef(yfine_test, y1_pred))\n",
    "perf.append([accuracy_score(yfine_test, y1_pred), f1_score(yfine_test, y1_pred, average = \"micro\") , f1_score(yfine_test, y1_pred, average = \"macro\"), matthews_corrcoef(yfine_test, y1_pred)])"
   ]
  },
  {
   "cell_type": "code",
   "execution_count": 135,
   "id": "20909c21",
   "metadata": {},
   "outputs": [
    {
     "name": "stderr",
     "output_type": "stream",
     "text": [
      "/opt/anaconda3/lib/python3.7/site-packages/sklearn/utils/validation.py:985: DataConversionWarning: A column-vector y was passed when a 1d array was expected. Please change the shape of y to (n_samples, ), for example using ravel().\n",
      "  y = column_or_1d(y, warn=True)\n"
     ]
    },
    {
     "name": "stdout",
     "output_type": "stream",
     "text": [
      "1.1894655227661133\n"
     ]
    }
   ],
   "source": [
    "t2 = time()\n",
    "model2 = LogisticRegression(max_iter = 1500).fit(X2_train, yfine_train)\n",
    "y2_pred = model2.predict(X2_test)\n",
    "print(time()-t2)"
   ]
  },
  {
   "cell_type": "code",
   "execution_count": 136,
   "id": "58c5e3b2",
   "metadata": {},
   "outputs": [
    {
     "name": "stdout",
     "output_type": "stream",
     "text": [
      "Accuracy:  0.8872727272727273\n",
      "F1score (micro):  0.8872727272727273\n",
      "F1score (macro):  0.6347370638043786\n",
      "MCC:  0.8515479090137336\n"
     ]
    }
   ],
   "source": [
    "print(\"Accuracy: \", accuracy_score(yfine_test, y2_pred))\n",
    "print(\"F1score (micro): \", f1_score(yfine_test, y2_pred, average = \"micro\"))\n",
    "print(\"F1score (macro): \", f1_score(yfine_test, y2_pred, average = \"macro\"))\n",
    "print(\"MCC: \", matthews_corrcoef(yfine_test, y2_pred))\n",
    "perf.append([accuracy_score(yfine_test, y2_pred), f1_score(yfine_test, y2_pred, average = \"micro\") , f1_score(yfine_test, y2_pred, average = \"macro\"), matthews_corrcoef(yfine_test, y2_pred)])"
   ]
  },
  {
   "cell_type": "code",
   "execution_count": 137,
   "id": "c6421fae",
   "metadata": {
    "scrolled": true
   },
   "outputs": [
    {
     "name": "stderr",
     "output_type": "stream",
     "text": [
      "/opt/anaconda3/lib/python3.7/site-packages/sklearn/utils/validation.py:985: DataConversionWarning: A column-vector y was passed when a 1d array was expected. Please change the shape of y to (n_samples, ), for example using ravel().\n",
      "  y = column_or_1d(y, warn=True)\n"
     ]
    }
   ],
   "source": [
    "model3 = LogisticRegression(max_iter = 1000).fit(X3_train, yfine_train)\n",
    "y3_pred = model3.predict(X3_test)"
   ]
  },
  {
   "cell_type": "code",
   "execution_count": 138,
   "id": "461556f2",
   "metadata": {},
   "outputs": [
    {
     "name": "stdout",
     "output_type": "stream",
     "text": [
      "Accuracy:  0.8872727272727273\n",
      "F1score (micro):  0.8872727272727273\n",
      "F1score (macro):  0.6348864327790488\n",
      "MCC:  0.851703933404775\n"
     ]
    }
   ],
   "source": [
    "print(\"Accuracy: \", accuracy_score(yfine_test, y3_pred))\n",
    "print(\"F1score (micro): \", f1_score(yfine_test, y3_pred, average = \"micro\"))\n",
    "print(\"F1score (macro): \", f1_score(yfine_test, y3_pred, average = \"macro\"))\n",
    "print(\"MCC: \", matthews_corrcoef(yfine_test, y3_pred))\n",
    "perf.append([accuracy_score(yfine_test, y3_pred), f1_score(yfine_test, y3_pred, average = \"micro\") , f1_score(yfine_test, y3_pred, average = \"macro\"), matthews_corrcoef(yfine_test, y3_pred)])"
   ]
  },
  {
   "cell_type": "code",
   "execution_count": 38,
   "id": "ae088203",
   "metadata": {},
   "outputs": [
    {
     "name": "stderr",
     "output_type": "stream",
     "text": [
      "/home/burhan/.conda/envs/clone/lib/python3.9/site-packages/sklearn/utils/validation.py:985: DataConversionWarning: A column-vector y was passed when a 1d array was expected. Please change the shape of y to (n_samples, ), for example using ravel().\n",
      "  y = column_or_1d(y, warn=True)\n",
      "/home/burhan/.conda/envs/clone/lib/python3.9/site-packages/sklearn/linear_model/_logistic.py:814: ConvergenceWarning: lbfgs failed to converge (status=1):\n",
      "STOP: TOTAL NO. of ITERATIONS REACHED LIMIT.\n",
      "\n",
      "Increase the number of iterations (max_iter) or scale the data as shown in:\n",
      "    https://scikit-learn.org/stable/modules/preprocessing.html\n",
      "Please also refer to the documentation for alternative solver options:\n",
      "    https://scikit-learn.org/stable/modules/linear_model.html#logistic-regression\n",
      "  n_iter_i = _check_optimize_result(\n"
     ]
    }
   ],
   "source": [
    "model25 = LogisticRegression(max_iter = 1500).fit(X25_train, yfine_train)\n",
    "y25_pred = model25.predict(X25_test)"
   ]
  },
  {
   "cell_type": "code",
   "execution_count": 39,
   "id": "771a6cea",
   "metadata": {},
   "outputs": [
    {
     "name": "stdout",
     "output_type": "stream",
     "text": [
      "Accuracy:  0.7570674486803519\n",
      "F1score (micro):  0.7570674486803519\n",
      "F1score (macro):  0.6428736115080884\n",
      "MCC:  0.7004101976061441\n"
     ]
    }
   ],
   "source": [
    "print(\"Accuracy: \", accuracy_score(yfine_test, y25_pred))\n",
    "print(\"F1score (micro): \", f1_score(yfine_test, y25_pred, average = \"micro\"))\n",
    "print(\"F1score (macro): \", f1_score(yfine_test, y25_pred, average = \"macro\"))\n",
    "print(\"MCC: \", matthews_corrcoef(yfine_test, y25_pred))\n",
    "perf.append([accuracy_score(yfine_test, y25_pred), f1_score(yfine_test, y25_pred, average = \"micro\") , f1_score(yfine_test, y25_pred, average = \"macro\"), matthews_corrcoef(yfine_test, y25_pred)])"
   ]
  },
  {
   "cell_type": "code",
   "execution_count": 40,
   "id": "8ac6ee03",
   "metadata": {},
   "outputs": [
    {
     "name": "stderr",
     "output_type": "stream",
     "text": [
      "/home/burhan/.conda/envs/clone/lib/python3.9/site-packages/sklearn/utils/validation.py:985: DataConversionWarning: A column-vector y was passed when a 1d array was expected. Please change the shape of y to (n_samples, ), for example using ravel().\n",
      "  y = column_or_1d(y, warn=True)\n",
      "/home/burhan/.conda/envs/clone/lib/python3.9/site-packages/sklearn/linear_model/_logistic.py:814: ConvergenceWarning: lbfgs failed to converge (status=1):\n",
      "STOP: TOTAL NO. of ITERATIONS REACHED LIMIT.\n",
      "\n",
      "Increase the number of iterations (max_iter) or scale the data as shown in:\n",
      "    https://scikit-learn.org/stable/modules/preprocessing.html\n",
      "Please also refer to the documentation for alternative solver options:\n",
      "    https://scikit-learn.org/stable/modules/linear_model.html#logistic-regression\n",
      "  n_iter_i = _check_optimize_result(\n"
     ]
    }
   ],
   "source": [
    "model35 = LogisticRegression(max_iter = 1000).fit(X35_train, yfine_train)\n",
    "y35_pred = model35.predict(X35_test)"
   ]
  },
  {
   "cell_type": "code",
   "execution_count": 41,
   "id": "d8d59c64",
   "metadata": {},
   "outputs": [
    {
     "name": "stdout",
     "output_type": "stream",
     "text": [
      "Accuracy:  0.7514369501466276\n",
      "F1score (micro):  0.7514369501466275\n",
      "F1score (macro):  0.6376228965627782\n",
      "MCC:  0.6934297594170273\n"
     ]
    }
   ],
   "source": [
    "print(\"Accuracy: \", accuracy_score(yfine_test, y35_pred))\n",
    "print(\"F1score (micro): \", f1_score(yfine_test, y35_pred, average = \"micro\"))\n",
    "print(\"F1score (macro): \", f1_score(yfine_test, y35_pred, average = \"macro\"))\n",
    "print(\"MCC: \", matthews_corrcoef(yfine_test, y35_pred))\n",
    "perf.append([accuracy_score(yfine_test, y35_pred), f1_score(yfine_test, y35_pred, average = \"micro\") , f1_score(yfine_test, y35_pred, average = \"macro\"), matthews_corrcoef(yfine_test, y35_pred)])"
   ]
  },
  {
   "cell_type": "code",
   "execution_count": 21,
   "id": "6091b71b",
   "metadata": {},
   "outputs": [
    {
     "name": "stderr",
     "output_type": "stream",
     "text": [
      "/opt/anaconda3/lib/python3.7/site-packages/sklearn/utils/validation.py:985: DataConversionWarning: A column-vector y was passed when a 1d array was expected. Please change the shape of y to (n_samples, ), for example using ravel().\n",
      "  y = column_or_1d(y, warn=True)\n",
      "/opt/anaconda3/lib/python3.7/site-packages/sklearn/linear_model/_logistic.py:818: ConvergenceWarning: lbfgs failed to converge (status=1):\n",
      "STOP: TOTAL NO. of ITERATIONS REACHED LIMIT.\n",
      "\n",
      "Increase the number of iterations (max_iter) or scale the data as shown in:\n",
      "    https://scikit-learn.org/stable/modules/preprocessing.html\n",
      "Please also refer to the documentation for alternative solver options:\n",
      "    https://scikit-learn.org/stable/modules/linear_model.html#logistic-regression\n",
      "  extra_warning_msg=_LOGISTIC_SOLVER_CONVERGENCE_MSG,\n"
     ]
    }
   ],
   "source": [
    "model4 = LogisticRegression(max_iter = 1000).fit(X4_train, yfine_train)\n",
    "y4_pred = model4.predict(X4_test)"
   ]
  },
  {
   "cell_type": "code",
   "execution_count": 22,
   "id": "297858da",
   "metadata": {},
   "outputs": [
    {
     "name": "stdout",
     "output_type": "stream",
     "text": [
      "Accuracy:  0.8175160663577941\n",
      "F1score (micro):  0.8175160663577941\n",
      "F1score (macro):  0.7152816516641861\n",
      "MCC:  0.7903326762479065\n"
     ]
    }
   ],
   "source": [
    "print(\"Accuracy: \", accuracy_score(yfine_test, y4_pred))\n",
    "print(\"F1score (micro): \", f1_score(yfine_test, y4_pred, average = \"micro\"))\n",
    "print(\"F1score (macro): \", f1_score(yfine_test, y4_pred, average = \"macro\"))\n",
    "print(\"MCC: \", matthews_corrcoef(yfine_test, y4_pred))\n",
    "perf.append([accuracy_score(yfine_test, y4_pred), f1_score(yfine_test, y4_pred, average = \"micro\") , f1_score(yfine_test, y4_pred, average = \"macro\"), matthews_corrcoef(yfine_test, y4_pred)])"
   ]
  },
  {
   "cell_type": "code",
   "execution_count": 42,
   "id": "97e2abac",
   "metadata": {},
   "outputs": [],
   "source": [
    "np.savetxt(\"temp_fine_labels3-1.csv\", np.array(perf).transpose(), delimiter = \",\")"
   ]
  },
  {
   "cell_type": "code",
   "execution_count": 23,
   "id": "992076cd",
   "metadata": {},
   "outputs": [
    {
     "name": "stdout",
     "output_type": "stream",
     "text": [
      "0.7993307721399083 0.2260944441597307\n",
      "0.5133793767994326 0.3613076413460142\n",
      "0.7353736408573432 0.28767667261762025\n",
      "0.7501001479412296 0.31111500195234176\n",
      "0.6128524790714747 0.30627580875740834\n",
      "0.8440302893742417 0.9089335903455603\n",
      "0.8475973725638919 0.6710698279727165\n",
      "0.40891153623719 0.2403793082841627\n",
      "0.2509373106367122 0.1370180127444624\n",
      "0.7899727484718426 1.343163809222367\n",
      "0.6129848162264746 0.9867250013818147\n",
      "0.410661938468113 0.6151358929234562\n",
      "0.3447691745470824 0.5426684016282676\n",
      "0.3494907337820048 0.1667178610461261\n",
      "0.4435653369756061 0.2134662687557293\n",
      "0.6156484097055874 0.6054054831794055\n",
      "0.7962694182143697 0.494825419650116\n",
      "0.20760738649155128 0.3614465559440491\n",
      "0.7627244416363104 0.370634795219726\n",
      "0.7685319052485292 1.4401504439379138\n",
      "0.829811876562635 0.3533796350828599\n",
      "0.5288981671110008 0.2268918102717352\n"
     ]
    },
    {
     "data": {
      "image/png": "[encoded data removed]",
      "text/plain": [
       "<Figure size 252x216 with 1 Axes>"
      ]
     },
     "metadata": {
      "needs_background": "light"
     },
     "output_type": "display_data"
    }
   ],
   "source": [
    "plt.figure(figsize = (3.5,3))\n",
    "y_coords = abs_avg(model4.coef_)\n",
    "for i in range(len(common_adt)):\n",
    "    #plt.scatter(spearmanr(adt[common_adt[i]], ctp[common_adt[i]])[0], np.log(abs(model3.coef_[0][-len(common_adt):][i])))\n",
    "    plt.scatter((spearmanr(adt[common_adt[i]], ctp[common_adt[i]])[0] + spearmanr(adt[common_adt[i]], azi[common_adt[i]])[0])/2, y_coords[i], label = common_adt[i])\n",
    "    #plt.text(spearmanr(adt[common_adt[i]], ctp[common_adt[i]])[0], np.log(abs(model3.coef_[0][-len(common_adt):][i])), s = common_adt[i])\n",
    "    plt.text((spearmanr(adt[common_adt[i]], ctp[common_adt[i]])[0] + spearmanr(adt[common_adt[i]], azi[common_adt[i]])[0])/2, y_coords[i], s = common_adt[i])\n",
    "    print((spearmanr(adt[common_adt[i]], ctp[common_adt[i]])[0] + spearmanr(adt[common_adt[i]], azi[common_adt[i]])[0])/2, y_coords[i])\n",
    "plt.xlabel(\"Average Predictability\")\n",
    "plt.ylabel(\"Average Feature Importance\")\n",
    "plt.xlim(0,1)\n",
    "plt.ylim(0, max(y_coords)*1.1)\n",
    "plt.legend(loc = \"upper left\", bbox_to_anchor = (1.01,1.0))\n",
    "#plt.tight_layout()\n",
    "plt.show()"
   ]
  },
  {
   "cell_type": "code",
   "execution_count": 44,
   "id": "0e0c719a",
   "metadata": {},
   "outputs": [
    {
     "data": {
      "text/plain": [
       "Text(0, 0.5, 'Coefficient')"
      ]
     },
     "execution_count": 44,
     "metadata": {},
     "output_type": "execute_result"
    },
    {
     "data": {
      "image/png": "[encoded data removed]",
      "text/plain": [
       "<Figure size 252x216 with 1 Axes>"
      ]
     },
     "metadata": {
      "needs_background": "light"
     },
     "output_type": "display_data"
    }
   ],
   "source": [
    "plt.figure(figsize = (3.5,3))\n",
    "for i in range(len(common_adt)):\n",
    "    #plt.scatter(spearmanr(adt[common_adt[i]], azi[common_adt[i]])[0], np.log(abs(model2.coef_[0][-len(common_adt):][i])))\n",
    "    #plt.text(spearmanr(adt[common_adt[i]], azi[common_adt[i]])[0], np.log(abs(model2.coef_[0][-len(common_adt):][i])), s = common_adt[i])\n",
    "    plt.scatter(spearmanr(adt[common_adt[i]], azi[common_adt[i]])[0], (abs(model2.coef_[0][-len(common_adt):][i])))\n",
    "    plt.text(spearmanr(adt[common_adt[i]], azi[common_adt[i]])[0], (abs(model2.coef_[0][-len(common_adt):][i])), s = common_adt[i])\n",
    "plt.xlabel(\"Predictability\")\n",
    "plt.ylabel(\"Coefficient\")"
   ]
  },
  {
   "cell_type": "code",
   "execution_count": 45,
   "id": "b988c021",
   "metadata": {},
   "outputs": [
    {
     "data": {
      "text/plain": [
       "Text(0, 0.5, 'Coefficient')"
      ]
     },
     "execution_count": 45,
     "metadata": {},
     "output_type": "execute_result"
    },
    {
     "data": {
      "image/png": "[encoded data removed]",
      "text/plain": [
       "<Figure size 252x216 with 1 Axes>"
      ]
     },
     "metadata": {
      "needs_background": "light"
     },
     "output_type": "display_data"
    }
   ],
   "source": [
    "plt.figure(figsize = (3.5,3))\n",
    "for i in range(len(common_adt)):\n",
    "    #plt.scatter(spearmanr(adt[common_adt[i]], ctp[common_adt[i]])[0], np.log(abs(model3.coef_[0][-len(common_adt):][i])))\n",
    "    plt.scatter(spearmanr(adt[common_adt[i]], ctp[common_adt[i]])[0], (abs(model3.coef_[0][-len(common_adt):][i])))\n",
    "    #plt.text(spearmanr(adt[common_adt[i]], ctp[common_adt[i]])[0], np.log(abs(model3.coef_[0][-len(common_adt):][i])), s = common_adt[i])\n",
    "    plt.text(spearmanr(adt[common_adt[i]], ctp[common_adt[i]])[0], (abs(model3.coef_[0][-len(common_adt):][i])), s = common_adt[i])\n",
    "plt.xlabel(\"Predictability\")\n",
    "plt.ylabel(\"Coefficient\")"
   ]
  },
  {
   "cell_type": "code",
   "execution_count": null,
   "id": "ebabb4c8",
   "metadata": {},
   "outputs": [],
   "source": []
  },
  {
   "cell_type": "code",
   "execution_count": null,
   "id": "301f5f18",
   "metadata": {},
   "outputs": [],
   "source": []
  }
 ],
 "metadata": {
  "kernelspec": {
   "display_name": "Python 3 (ipykernel)",
   "language": "python",
   "name": "python3"
  },
  "language_info": {
   "codemirror_mode": {
    "name": "ipython",
    "version": 3
   },
   "file_extension": ".py",
   "mimetype": "text/x-python",
   "name": "python",
   "nbconvert_exporter": "python",
   "pygments_lexer": "ipython3",
   "version": "3.9.7"
  }
 },
 "nbformat": 4,
 "nbformat_minor": 5
}
